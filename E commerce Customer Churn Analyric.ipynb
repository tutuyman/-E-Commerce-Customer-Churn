{
 "cells": [
  {
   "cell_type": "code",
   "execution_count": 1,
   "id": "6e8892e4-1ca2-43a3-b195-d7fcde5de668",
   "metadata": {},
   "outputs": [],
   "source": [
    "import pandas as pd\n",
    "import numpy as np\n",
    "import seaborn as sns\n",
    "import matplotlib.pyplot as plt\n",
    "from sklearn.model_selection import train_test_split\n",
    "from imblearn.over_sampling import RandomOverSampler, SMOTENC,SMOTE\n",
    "from sklearn.model_selection import train_test_split, StratifiedKFold, GridSearchCV, ShuffleSplit, RandomizedSearchCV, cross_val_score\n",
    "from sklearn.metrics import accuracy_score, recall_score, precision_score, f1_score, confusion_matrix, classification_report, plot_confusion_matrix, roc_auc_score\n",
    "from sklearn.pipeline import Pipeline\n",
    "from sklearn.preprocessing import OneHotEncoder,StandardScaler,MinMaxScaler\n",
    "from sklearn.compose import ColumnTransformer\n",
    "import category_encoders as ce\n",
    "from sklearn.pipeline import Pipeline\n",
    "import warnings\n",
    "import missingno as msno\n",
    "warnings.filterwarnings('ignore')\n",
    "from imblearn.over_sampling import RandomOverSampler,SMOTE\n",
    "from imblearn.under_sampling import RandomUnderSampler,NearMiss\n",
    "from sklearn.metrics import accuracy_score, confusion_matrix, recall_score, precision_score, classification_report, f1_score, fbeta_score, make_scorer\n",
    "from sklearn.linear_model import LogisticRegression\n",
    "from sklearn.tree import DecisionTreeClassifier\n",
    "from sklearn.neighbors import KNeighborsClassifier\n",
    "from sklearn.ensemble import RandomForestClassifier,AdaBoostClassifier,GradientBoostingClassifier \n",
    "from xgboost.sklearn import XGBClassifier\n"
   ]
  },
  {
   "cell_type": "markdown",
   "id": "0b2ec2a8-b575-4078-8aa9-5762a4ec0fea",
   "metadata": {},
   "source": [
    "# E-Commerce Customer Churn \n",
    "   by: \n",
    "1. Muhammad Nanda Reza Putra\n",
    "2. Andri Rifky Aditama"
   ]
  },
  {
   "cell_type": "markdown",
   "id": "c81dc9d7-3ff5-44b6-b3a0-27c100c28e79",
   "metadata": {},
   "source": [
    "Sumber Data: [E-Commerce Dataset](https://www.kaggle.com/datasets/ankitverma2010/ecommerce-customer-churn-analysis-and-prediction)"
   ]
  },
  {
   "cell_type": "markdown",
   "id": "aa76bb53-5025-43cd-a3c3-8b162d02ac61",
   "metadata": {},
   "source": [
    "# Business Problem Understanding\n",
    "\n",
    "## Context\n",
    "Perkembangan Teknologi telah memtransformasi insdustri perdagangan dunia. Pergeseran ini membuat pola perdagangan dunia juga beralih ke perdagangan secara online. Banyak Perusahaan yang membuat pelanggan melakukan **Churn**. **Churn** pada E-Commerce adalah suatu perilaku pelanggan berhenti melakukan transaksi pada perusahaan E-Commerce. Nilai dari pelanggan yang melakukan **Churn** mengindikasikan seberapa banyak pelanggan yang tidak melakukan transaksi lagi pada perusahaan ini. Tingginya **Churn Rate** adalah sesuatu yang ingin dihindari pada bisnis ini. **Churn Rate** yang tinggi mengindikasikan bahwa pelanggan mungkin tidak puas dengan barang atau jasa diberikan. Perusahaan akan lebih mempertahankan pelanggan, karena dibutuhkan biaya lebih besar untuk mencari pelanggan yang baru. Sebuah perusahaan 'X' pada suatu negara memiliki bisnis perusahaan *E-Commerce* dimana para pelanggan dapat bertransaksi untuk berbelanja peralatan elektronik (Laptop & aksesoris dan Handphone), pakaian , grosir dan lainnya. Perusahaan ini ingin mengetahui *behavior* pelanggan yang melakukan **Churn** dan ingin mengurangi jumlah pelanggan yang **Churn**. Dilakukan sebuah model prediksi yang tepat untuk menentukan pelanggan yang berhenti bertransaksi (churn) atau tidak menggunakan machine learning. Dengan target yang ditentukan sebagai berikut :\n",
    "\n",
    "Target: \n",
    "* 0 : Customer tidak Churn \n",
    "* 1 : Customer Churn"
   ]
  },
  {
   "cell_type": "markdown",
   "id": "cc70b06a-d299-4778-b1d1-b92c341878d4",
   "metadata": {},
   "source": [
    "# Problem Statement\n",
    "\n",
    "Pada suatu perusahaan tingginya pelanggan yang melakukan *Churn* merupakan suatu indikator tingkat kegagalan suatu perusahaan E-Commerce. Dimana apabila *Churn rate* sebesar 5 % maka kita akan kehilangan 5 % dari pelanggan tersebut. Tentu, Perusahaan sebisa mungkin harus menekan nilai *churn rate* ini sekecil mungkin. Sehingga diperlukan upaya untuk mengurangi persentase pelanggan yang melakukan *Churn*. Seperti disebutkan sebelumnya bahwa untuk mencari pelanggan lebih dibutuhkan biaya yang lebih besar dibandingkan mempertahankan pelanggan [sumber](https://www.woopra.com/blog/churn-rate-vs-retention-rate#:~:text=Customer%20churn%20rate%20is%20the,up%20and%20stay%20with%20you.). menurut [sumber](https://www.woopra.com/blog/churn-rate-vs-retention-rate#:~:text=Customer%20churn%20rate%20is%20the,up%20and%20stay%20with%20you.) apabila kita melakukan suatu *ads* untuk menarik pelanggan baru dgn biaya sebesar 100 dolar perbulan untuk mendapatkan pelanggan baru dan biaya perpelanggan perbulan sebesar 50 dolar, maka setidaknya setiap bulan harus ada 2 pelanggan untuk menutup biaya pelanggan baru tersebut. Salah satu cara perusahaan telekomunikasi mempertahankan pelanggannya agar tidak melakukan Churn yaitu memberikan insentif retensi terhadap pelanggan. Insentif retensi terdiri dari berbagai macam seperti memberikan potongan harga, memberikan paket layanan yang menarik, memberikan prioritas pelayanan dan lain-lain. Namun, kebijakan pemberian insentif retensi belum dilakukan secara efektif. Kebijakan tersebut sering ditemui berbagai kendala bahkan membuat\n",
    "perusahaan semakin merugi. "
   ]
  },
  {
   "cell_type": "markdown",
   "id": "2bbab95a-f78f-4d4f-aa86-dc4a1bcba7e2",
   "metadata": {},
   "source": [
    "## Goals\n",
    "\n",
    "Sehingga dari permasalahan yang ada, perusahaan ingin memiliki kemampuan untuk dilakukannya prediksi kemungkinan seorang pelanggan akan *Churn* atau tidak. Untuk memfokuskan upaya retensi,pemberian insentif meningkatkan pelayanan pada pelanggan yang terindikasi akan melakukan *Churn*. Selain itu juga agar perusahaan mengetahui faktor yang memengaruhi pelanggan bertahan agar strategi bisnis yang dilakukan tepat dengan keinginan pelanggan untuk menurunkan tingkat dari pelanggan yang *Churn*."
   ]
  },
  {
   "cell_type": "markdown",
   "id": "49317177-7fb8-4cdf-82be-1d07a54006fc",
   "metadata": {
    "tags": []
   },
   "source": [
    "## Analytics Approach\n",
    "\n",
    "Akan dilakukan analisa bagaimana faktor pembeda dari pelanggan yang melakukan *Churn* dan tidak. selanjutnya akan dibuat model klasifikasi untuk memprediksi probabilitas dari pelanggan akan melakukan *Churn* atau tidak."
   ]
  },
  {
   "cell_type": "markdown",
   "id": "17c80466-a75c-44b9-b1d4-29a6a8b37787",
   "metadata": {
    "tags": []
   },
   "source": [
    "\n",
    "## Confussion Metric\n",
    "\n",
    "![](https://txt.cohere.ai/content/images/2022/06/feature.png)\n",
    "\n",
    "\n",
    "Target utama dalam masalah ini adalah pelanggan yang berhenti berlangganan (Churn), seperti target yang sudah disebutkan pada context sebelumnya yaitu:\n",
    "\n",
    "Target:\n",
    "* 0 : Tidak Churn \n",
    "* 1 : Churn\n",
    "\n",
    "False Positive yaitu pelanggan yang aktualnya tidak tetapi diprediksi churn.<br>\n",
    "**Konsekuensi** : Tidak efektif dalam pemberian insentif. <br>\n",
    "False negative yaitu pelanggan yang aktualnya churn tetapi diprediksi tidak akan churn. <br>\n",
    "**Konsekuensi** : Kehilangan pelanggan.\n",
    "\n",
    "Berdasarkan Metric Evaluation yang ada akan digunakan serta konsekuensi yang ada. Akan dibuat model yang akan mengurangi resiko kehilangan pelanggan karena untuk mendapatkan pelanggan baru membutuhkan biaya lebih banyak dibandingkan kita mempertahankan pelanggan yang ada. Sehingga kita akan fokus pada nilai FN dengan mendapatkan nilai recall yang tinggi dan tetap membandingkan nilai precision agar tidak terlalu jauh. Kita ingin recall dan precisionya seimbang sehingga digunakan metric f1_score dengan data yang imbalance. Dilakukan juga Sampling Undersampling (NearMiss) dan Oversampling(SMOTE). Selanjutnya akan dibandingkan model mana yang paling cocok untuk digunakan pada kasus ini."
   ]
  },
  {
   "cell_type": "markdown",
   "id": "622b2e91-2be0-49e4-8e72-15458e79fed0",
   "metadata": {},
   "source": [
    "## Data Understanding\n",
    "Sumber Data: [E-Commerce Dataset](https://www.kaggle.com/datasets/ankitverma2010/ecommerce-customer-churn-analysis-and-prediction)\n",
    "\n",
    "Dataset merupakan data dari sebuah perusahaan terkemuka 'X'\n",
    "Terdapat 20 kolom yang menmemberikan informasi mengenai ID customer, churn atau tidak, login menggunakan device apa dan lain-lain.\n",
    "\n"
   ]
  },
  {
   "cell_type": "markdown",
   "id": "ceb52a08-e667-45c6-91a1-c1984687a529",
   "metadata": {},
   "source": [
    "## Attribute Information\n",
    "\n",
    "### Attribute Information\n",
    "\n",
    "| Attribute | Data Type | Description |\n",
    "| --- | --- | --- |\n",
    "| Customer ID | Int | Unique customer ID |\n",
    "| Churn | Int | Churn Flag 0 : Tidak Churn, 1 : Churn |\n",
    "| Tenure | Float | Tenure of customer in organization |\n",
    "| PreferredLoginDevice | Text | Preferred login device of customer |\n",
    "| CityTier | Int | City tier |\n",
    "| WarehouseToHome | Float | Distance in between warehouse to home of customer |\n",
    "| PreferredPaymentMode | Text | Preferred payment method of customer |\n",
    "| Gender | Text | Gender of customer |\n",
    "| HourSpendOnApp | Float | Number of hours spend on mobile application or website |\n",
    "| NumberOfDeviceRegistered | Int | Total number of deceives is registered on particular customer |\n",
    "| PreferedOrderCat | Object | Preferred order category of customer in last month |\n",
    "| SatisfactionScore | Int | Satisfactory score of customer on service |\n",
    "| MaritalStatus | Object | Marital status of customer|\n",
    "| NumberOfAddress | Int | Total number of added added on particular customer |\n",
    "| Complain | Int | Any complaint has been raised in last month |\n",
    "| OrderAmountHikeFromlastYear | Float | Percentage increases in order from last year |\n",
    "| CouponUsed | Float | Total number of coupon has been used in last month |\n",
    "| OrderCount | Float | Total number of orders has been places in last month |\n",
    "| DaySinceLastOrder | Float | Day Since last order by customer |\n",
    "| CashbackAmount | Float | Average cashback in last month |"
   ]
  },
  {
   "cell_type": "markdown",
   "id": "340c0cef-1791-409a-94e2-86962d4054b8",
   "metadata": {},
   "source": [
    "## Explanatory Data Analysis (EDA)"
   ]
  },
  {
   "cell_type": "code",
   "execution_count": 2,
   "id": "4eef11db-3906-4013-ae5b-6f3455871fb0",
   "metadata": {},
   "outputs": [],
   "source": [
    "df=pd.read_excel('E_commerce.xlsx', sheet_name='E Comm')"
   ]
  },
  {
   "cell_type": "code",
   "execution_count": 3,
   "id": "2fb53d7e-c492-467c-9d3c-5589caa3d1e5",
   "metadata": {},
   "outputs": [
    {
     "data": {
      "text/html": [
       "<div>\n",
       "<style scoped>\n",
       "    .dataframe tbody tr th:only-of-type {\n",
       "        vertical-align: middle;\n",
       "    }\n",
       "\n",
       "    .dataframe tbody tr th {\n",
       "        vertical-align: top;\n",
       "    }\n",
       "\n",
       "    .dataframe thead th {\n",
       "        text-align: right;\n",
       "    }\n",
       "</style>\n",
       "<table border=\"1\" class=\"dataframe\">\n",
       "  <thead>\n",
       "    <tr style=\"text-align: right;\">\n",
       "      <th></th>\n",
       "      <th>CustomerID</th>\n",
       "      <th>Churn</th>\n",
       "      <th>Tenure</th>\n",
       "      <th>PreferredLoginDevice</th>\n",
       "      <th>CityTier</th>\n",
       "      <th>WarehouseToHome</th>\n",
       "      <th>PreferredPaymentMode</th>\n",
       "      <th>Gender</th>\n",
       "      <th>HourSpendOnApp</th>\n",
       "      <th>NumberOfDeviceRegistered</th>\n",
       "      <th>PreferedOrderCat</th>\n",
       "      <th>SatisfactionScore</th>\n",
       "      <th>MaritalStatus</th>\n",
       "      <th>NumberOfAddress</th>\n",
       "      <th>Complain</th>\n",
       "      <th>OrderAmountHikeFromlastYear</th>\n",
       "      <th>CouponUsed</th>\n",
       "      <th>OrderCount</th>\n",
       "      <th>DaySinceLastOrder</th>\n",
       "      <th>CashbackAmount</th>\n",
       "    </tr>\n",
       "  </thead>\n",
       "  <tbody>\n",
       "    <tr>\n",
       "      <th>0</th>\n",
       "      <td>50001</td>\n",
       "      <td>1</td>\n",
       "      <td>4.0</td>\n",
       "      <td>Mobile Phone</td>\n",
       "      <td>3</td>\n",
       "      <td>6.0</td>\n",
       "      <td>Debit Card</td>\n",
       "      <td>Female</td>\n",
       "      <td>3.0</td>\n",
       "      <td>3</td>\n",
       "      <td>Laptop &amp; Accessory</td>\n",
       "      <td>2</td>\n",
       "      <td>Single</td>\n",
       "      <td>9</td>\n",
       "      <td>1</td>\n",
       "      <td>11.0</td>\n",
       "      <td>1.0</td>\n",
       "      <td>1.0</td>\n",
       "      <td>5.0</td>\n",
       "      <td>159.93</td>\n",
       "    </tr>\n",
       "    <tr>\n",
       "      <th>1</th>\n",
       "      <td>50002</td>\n",
       "      <td>1</td>\n",
       "      <td>NaN</td>\n",
       "      <td>Phone</td>\n",
       "      <td>1</td>\n",
       "      <td>8.0</td>\n",
       "      <td>UPI</td>\n",
       "      <td>Male</td>\n",
       "      <td>3.0</td>\n",
       "      <td>4</td>\n",
       "      <td>Mobile</td>\n",
       "      <td>3</td>\n",
       "      <td>Single</td>\n",
       "      <td>7</td>\n",
       "      <td>1</td>\n",
       "      <td>15.0</td>\n",
       "      <td>0.0</td>\n",
       "      <td>1.0</td>\n",
       "      <td>0.0</td>\n",
       "      <td>120.90</td>\n",
       "    </tr>\n",
       "    <tr>\n",
       "      <th>2</th>\n",
       "      <td>50003</td>\n",
       "      <td>1</td>\n",
       "      <td>NaN</td>\n",
       "      <td>Phone</td>\n",
       "      <td>1</td>\n",
       "      <td>30.0</td>\n",
       "      <td>Debit Card</td>\n",
       "      <td>Male</td>\n",
       "      <td>2.0</td>\n",
       "      <td>4</td>\n",
       "      <td>Mobile</td>\n",
       "      <td>3</td>\n",
       "      <td>Single</td>\n",
       "      <td>6</td>\n",
       "      <td>1</td>\n",
       "      <td>14.0</td>\n",
       "      <td>0.0</td>\n",
       "      <td>1.0</td>\n",
       "      <td>3.0</td>\n",
       "      <td>120.28</td>\n",
       "    </tr>\n",
       "    <tr>\n",
       "      <th>3</th>\n",
       "      <td>50004</td>\n",
       "      <td>1</td>\n",
       "      <td>0.0</td>\n",
       "      <td>Phone</td>\n",
       "      <td>3</td>\n",
       "      <td>15.0</td>\n",
       "      <td>Debit Card</td>\n",
       "      <td>Male</td>\n",
       "      <td>2.0</td>\n",
       "      <td>4</td>\n",
       "      <td>Laptop &amp; Accessory</td>\n",
       "      <td>5</td>\n",
       "      <td>Single</td>\n",
       "      <td>8</td>\n",
       "      <td>0</td>\n",
       "      <td>23.0</td>\n",
       "      <td>0.0</td>\n",
       "      <td>1.0</td>\n",
       "      <td>3.0</td>\n",
       "      <td>134.07</td>\n",
       "    </tr>\n",
       "    <tr>\n",
       "      <th>4</th>\n",
       "      <td>50005</td>\n",
       "      <td>1</td>\n",
       "      <td>0.0</td>\n",
       "      <td>Phone</td>\n",
       "      <td>1</td>\n",
       "      <td>12.0</td>\n",
       "      <td>CC</td>\n",
       "      <td>Male</td>\n",
       "      <td>NaN</td>\n",
       "      <td>3</td>\n",
       "      <td>Mobile</td>\n",
       "      <td>5</td>\n",
       "      <td>Single</td>\n",
       "      <td>3</td>\n",
       "      <td>0</td>\n",
       "      <td>11.0</td>\n",
       "      <td>1.0</td>\n",
       "      <td>1.0</td>\n",
       "      <td>3.0</td>\n",
       "      <td>129.60</td>\n",
       "    </tr>\n",
       "    <tr>\n",
       "      <th>...</th>\n",
       "      <td>...</td>\n",
       "      <td>...</td>\n",
       "      <td>...</td>\n",
       "      <td>...</td>\n",
       "      <td>...</td>\n",
       "      <td>...</td>\n",
       "      <td>...</td>\n",
       "      <td>...</td>\n",
       "      <td>...</td>\n",
       "      <td>...</td>\n",
       "      <td>...</td>\n",
       "      <td>...</td>\n",
       "      <td>...</td>\n",
       "      <td>...</td>\n",
       "      <td>...</td>\n",
       "      <td>...</td>\n",
       "      <td>...</td>\n",
       "      <td>...</td>\n",
       "      <td>...</td>\n",
       "      <td>...</td>\n",
       "    </tr>\n",
       "    <tr>\n",
       "      <th>5625</th>\n",
       "      <td>55626</td>\n",
       "      <td>0</td>\n",
       "      <td>10.0</td>\n",
       "      <td>Computer</td>\n",
       "      <td>1</td>\n",
       "      <td>30.0</td>\n",
       "      <td>Credit Card</td>\n",
       "      <td>Male</td>\n",
       "      <td>3.0</td>\n",
       "      <td>2</td>\n",
       "      <td>Laptop &amp; Accessory</td>\n",
       "      <td>1</td>\n",
       "      <td>Married</td>\n",
       "      <td>6</td>\n",
       "      <td>0</td>\n",
       "      <td>18.0</td>\n",
       "      <td>1.0</td>\n",
       "      <td>2.0</td>\n",
       "      <td>4.0</td>\n",
       "      <td>150.71</td>\n",
       "    </tr>\n",
       "    <tr>\n",
       "      <th>5626</th>\n",
       "      <td>55627</td>\n",
       "      <td>0</td>\n",
       "      <td>13.0</td>\n",
       "      <td>Mobile Phone</td>\n",
       "      <td>1</td>\n",
       "      <td>13.0</td>\n",
       "      <td>Credit Card</td>\n",
       "      <td>Male</td>\n",
       "      <td>3.0</td>\n",
       "      <td>5</td>\n",
       "      <td>Fashion</td>\n",
       "      <td>5</td>\n",
       "      <td>Married</td>\n",
       "      <td>6</td>\n",
       "      <td>0</td>\n",
       "      <td>16.0</td>\n",
       "      <td>1.0</td>\n",
       "      <td>2.0</td>\n",
       "      <td>NaN</td>\n",
       "      <td>224.91</td>\n",
       "    </tr>\n",
       "    <tr>\n",
       "      <th>5627</th>\n",
       "      <td>55628</td>\n",
       "      <td>0</td>\n",
       "      <td>1.0</td>\n",
       "      <td>Mobile Phone</td>\n",
       "      <td>1</td>\n",
       "      <td>11.0</td>\n",
       "      <td>Debit Card</td>\n",
       "      <td>Male</td>\n",
       "      <td>3.0</td>\n",
       "      <td>2</td>\n",
       "      <td>Laptop &amp; Accessory</td>\n",
       "      <td>4</td>\n",
       "      <td>Married</td>\n",
       "      <td>3</td>\n",
       "      <td>1</td>\n",
       "      <td>21.0</td>\n",
       "      <td>1.0</td>\n",
       "      <td>2.0</td>\n",
       "      <td>4.0</td>\n",
       "      <td>186.42</td>\n",
       "    </tr>\n",
       "    <tr>\n",
       "      <th>5628</th>\n",
       "      <td>55629</td>\n",
       "      <td>0</td>\n",
       "      <td>23.0</td>\n",
       "      <td>Computer</td>\n",
       "      <td>3</td>\n",
       "      <td>9.0</td>\n",
       "      <td>Credit Card</td>\n",
       "      <td>Male</td>\n",
       "      <td>4.0</td>\n",
       "      <td>5</td>\n",
       "      <td>Laptop &amp; Accessory</td>\n",
       "      <td>4</td>\n",
       "      <td>Married</td>\n",
       "      <td>4</td>\n",
       "      <td>0</td>\n",
       "      <td>15.0</td>\n",
       "      <td>2.0</td>\n",
       "      <td>2.0</td>\n",
       "      <td>9.0</td>\n",
       "      <td>178.90</td>\n",
       "    </tr>\n",
       "    <tr>\n",
       "      <th>5629</th>\n",
       "      <td>55630</td>\n",
       "      <td>0</td>\n",
       "      <td>8.0</td>\n",
       "      <td>Mobile Phone</td>\n",
       "      <td>1</td>\n",
       "      <td>15.0</td>\n",
       "      <td>Credit Card</td>\n",
       "      <td>Male</td>\n",
       "      <td>3.0</td>\n",
       "      <td>2</td>\n",
       "      <td>Laptop &amp; Accessory</td>\n",
       "      <td>3</td>\n",
       "      <td>Married</td>\n",
       "      <td>4</td>\n",
       "      <td>0</td>\n",
       "      <td>13.0</td>\n",
       "      <td>2.0</td>\n",
       "      <td>2.0</td>\n",
       "      <td>3.0</td>\n",
       "      <td>169.04</td>\n",
       "    </tr>\n",
       "  </tbody>\n",
       "</table>\n",
       "<p>5630 rows × 20 columns</p>\n",
       "</div>"
      ],
      "text/plain": [
       "      CustomerID  Churn  Tenure PreferredLoginDevice  CityTier  \\\n",
       "0          50001      1     4.0         Mobile Phone         3   \n",
       "1          50002      1     NaN                Phone         1   \n",
       "2          50003      1     NaN                Phone         1   \n",
       "3          50004      1     0.0                Phone         3   \n",
       "4          50005      1     0.0                Phone         1   \n",
       "...          ...    ...     ...                  ...       ...   \n",
       "5625       55626      0    10.0             Computer         1   \n",
       "5626       55627      0    13.0         Mobile Phone         1   \n",
       "5627       55628      0     1.0         Mobile Phone         1   \n",
       "5628       55629      0    23.0             Computer         3   \n",
       "5629       55630      0     8.0         Mobile Phone         1   \n",
       "\n",
       "      WarehouseToHome PreferredPaymentMode  Gender  HourSpendOnApp  \\\n",
       "0                 6.0           Debit Card  Female             3.0   \n",
       "1                 8.0                  UPI    Male             3.0   \n",
       "2                30.0           Debit Card    Male             2.0   \n",
       "3                15.0           Debit Card    Male             2.0   \n",
       "4                12.0                   CC    Male             NaN   \n",
       "...               ...                  ...     ...             ...   \n",
       "5625             30.0          Credit Card    Male             3.0   \n",
       "5626             13.0          Credit Card    Male             3.0   \n",
       "5627             11.0           Debit Card    Male             3.0   \n",
       "5628              9.0          Credit Card    Male             4.0   \n",
       "5629             15.0          Credit Card    Male             3.0   \n",
       "\n",
       "      NumberOfDeviceRegistered    PreferedOrderCat  SatisfactionScore  \\\n",
       "0                            3  Laptop & Accessory                  2   \n",
       "1                            4              Mobile                  3   \n",
       "2                            4              Mobile                  3   \n",
       "3                            4  Laptop & Accessory                  5   \n",
       "4                            3              Mobile                  5   \n",
       "...                        ...                 ...                ...   \n",
       "5625                         2  Laptop & Accessory                  1   \n",
       "5626                         5             Fashion                  5   \n",
       "5627                         2  Laptop & Accessory                  4   \n",
       "5628                         5  Laptop & Accessory                  4   \n",
       "5629                         2  Laptop & Accessory                  3   \n",
       "\n",
       "     MaritalStatus  NumberOfAddress  Complain  OrderAmountHikeFromlastYear  \\\n",
       "0           Single                9         1                         11.0   \n",
       "1           Single                7         1                         15.0   \n",
       "2           Single                6         1                         14.0   \n",
       "3           Single                8         0                         23.0   \n",
       "4           Single                3         0                         11.0   \n",
       "...            ...              ...       ...                          ...   \n",
       "5625       Married                6         0                         18.0   \n",
       "5626       Married                6         0                         16.0   \n",
       "5627       Married                3         1                         21.0   \n",
       "5628       Married                4         0                         15.0   \n",
       "5629       Married                4         0                         13.0   \n",
       "\n",
       "      CouponUsed  OrderCount  DaySinceLastOrder  CashbackAmount  \n",
       "0            1.0         1.0                5.0          159.93  \n",
       "1            0.0         1.0                0.0          120.90  \n",
       "2            0.0         1.0                3.0          120.28  \n",
       "3            0.0         1.0                3.0          134.07  \n",
       "4            1.0         1.0                3.0          129.60  \n",
       "...          ...         ...                ...             ...  \n",
       "5625         1.0         2.0                4.0          150.71  \n",
       "5626         1.0         2.0                NaN          224.91  \n",
       "5627         1.0         2.0                4.0          186.42  \n",
       "5628         2.0         2.0                9.0          178.90  \n",
       "5629         2.0         2.0                3.0          169.04  \n",
       "\n",
       "[5630 rows x 20 columns]"
      ]
     },
     "execution_count": 3,
     "metadata": {},
     "output_type": "execute_result"
    }
   ],
   "source": [
    "df"
   ]
  },
  {
   "cell_type": "code",
   "execution_count": 4,
   "id": "866404da-a2ab-4895-b0d7-925700af55d9",
   "metadata": {},
   "outputs": [
    {
     "data": {
      "text/plain": [
       "CustomerID                     0.000000\n",
       "Churn                          0.000000\n",
       "Tenure                         0.046892\n",
       "PreferredLoginDevice           0.000000\n",
       "CityTier                       0.000000\n",
       "WarehouseToHome                0.044583\n",
       "PreferredPaymentMode           0.000000\n",
       "Gender                         0.000000\n",
       "HourSpendOnApp                 0.045293\n",
       "NumberOfDeviceRegistered       0.000000\n",
       "PreferedOrderCat               0.000000\n",
       "SatisfactionScore              0.000000\n",
       "MaritalStatus                  0.000000\n",
       "NumberOfAddress                0.000000\n",
       "Complain                       0.000000\n",
       "OrderAmountHikeFromlastYear    0.047069\n",
       "CouponUsed                     0.045471\n",
       "OrderCount                     0.045826\n",
       "DaySinceLastOrder              0.054529\n",
       "CashbackAmount                 0.000000\n",
       "dtype: float64"
      ]
     },
     "execution_count": 4,
     "metadata": {},
     "output_type": "execute_result"
    }
   ],
   "source": [
    "df.isna().sum()/len(df)"
   ]
  },
  {
   "cell_type": "code",
   "execution_count": 5,
   "id": "2a21eb69-c055-4080-967d-ca23d3297f6b",
   "metadata": {},
   "outputs": [
    {
     "name": "stdout",
     "output_type": "stream",
     "text": [
      "<class 'pandas.core.frame.DataFrame'>\n",
      "RangeIndex: 5630 entries, 0 to 5629\n",
      "Data columns (total 20 columns):\n",
      " #   Column                       Non-Null Count  Dtype  \n",
      "---  ------                       --------------  -----  \n",
      " 0   CustomerID                   5630 non-null   int64  \n",
      " 1   Churn                        5630 non-null   int64  \n",
      " 2   Tenure                       5366 non-null   float64\n",
      " 3   PreferredLoginDevice         5630 non-null   object \n",
      " 4   CityTier                     5630 non-null   int64  \n",
      " 5   WarehouseToHome              5379 non-null   float64\n",
      " 6   PreferredPaymentMode         5630 non-null   object \n",
      " 7   Gender                       5630 non-null   object \n",
      " 8   HourSpendOnApp               5375 non-null   float64\n",
      " 9   NumberOfDeviceRegistered     5630 non-null   int64  \n",
      " 10  PreferedOrderCat             5630 non-null   object \n",
      " 11  SatisfactionScore            5630 non-null   int64  \n",
      " 12  MaritalStatus                5630 non-null   object \n",
      " 13  NumberOfAddress              5630 non-null   int64  \n",
      " 14  Complain                     5630 non-null   int64  \n",
      " 15  OrderAmountHikeFromlastYear  5365 non-null   float64\n",
      " 16  CouponUsed                   5374 non-null   float64\n",
      " 17  OrderCount                   5372 non-null   float64\n",
      " 18  DaySinceLastOrder            5323 non-null   float64\n",
      " 19  CashbackAmount               5630 non-null   float64\n",
      "dtypes: float64(8), int64(7), object(5)\n",
      "memory usage: 879.8+ KB\n"
     ]
    },
    {
     "data": {
      "text/html": [
       "<div>\n",
       "<style scoped>\n",
       "    .dataframe tbody tr th:only-of-type {\n",
       "        vertical-align: middle;\n",
       "    }\n",
       "\n",
       "    .dataframe tbody tr th {\n",
       "        vertical-align: top;\n",
       "    }\n",
       "\n",
       "    .dataframe thead th {\n",
       "        text-align: right;\n",
       "    }\n",
       "</style>\n",
       "<table border=\"1\" class=\"dataframe\">\n",
       "  <thead>\n",
       "    <tr style=\"text-align: right;\">\n",
       "      <th></th>\n",
       "      <th>CustomerID</th>\n",
       "      <th>Churn</th>\n",
       "      <th>Tenure</th>\n",
       "      <th>CityTier</th>\n",
       "      <th>WarehouseToHome</th>\n",
       "      <th>HourSpendOnApp</th>\n",
       "      <th>NumberOfDeviceRegistered</th>\n",
       "      <th>SatisfactionScore</th>\n",
       "      <th>NumberOfAddress</th>\n",
       "      <th>Complain</th>\n",
       "      <th>OrderAmountHikeFromlastYear</th>\n",
       "      <th>CouponUsed</th>\n",
       "      <th>OrderCount</th>\n",
       "      <th>DaySinceLastOrder</th>\n",
       "      <th>CashbackAmount</th>\n",
       "    </tr>\n",
       "  </thead>\n",
       "  <tbody>\n",
       "    <tr>\n",
       "      <th>count</th>\n",
       "      <td>5630.000000</td>\n",
       "      <td>5630.000000</td>\n",
       "      <td>5366.000000</td>\n",
       "      <td>5630.000000</td>\n",
       "      <td>5379.000000</td>\n",
       "      <td>5375.000000</td>\n",
       "      <td>5630.000000</td>\n",
       "      <td>5630.000000</td>\n",
       "      <td>5630.000000</td>\n",
       "      <td>5630.000000</td>\n",
       "      <td>5365.000000</td>\n",
       "      <td>5374.000000</td>\n",
       "      <td>5372.000000</td>\n",
       "      <td>5323.000000</td>\n",
       "      <td>5630.000000</td>\n",
       "    </tr>\n",
       "    <tr>\n",
       "      <th>mean</th>\n",
       "      <td>52815.500000</td>\n",
       "      <td>0.168384</td>\n",
       "      <td>10.189899</td>\n",
       "      <td>1.654707</td>\n",
       "      <td>15.639896</td>\n",
       "      <td>2.931535</td>\n",
       "      <td>3.688988</td>\n",
       "      <td>3.066785</td>\n",
       "      <td>4.214032</td>\n",
       "      <td>0.284902</td>\n",
       "      <td>15.707922</td>\n",
       "      <td>1.751023</td>\n",
       "      <td>3.008004</td>\n",
       "      <td>4.543491</td>\n",
       "      <td>177.223030</td>\n",
       "    </tr>\n",
       "    <tr>\n",
       "      <th>std</th>\n",
       "      <td>1625.385339</td>\n",
       "      <td>0.374240</td>\n",
       "      <td>8.557241</td>\n",
       "      <td>0.915389</td>\n",
       "      <td>8.531475</td>\n",
       "      <td>0.721926</td>\n",
       "      <td>1.023999</td>\n",
       "      <td>1.380194</td>\n",
       "      <td>2.583586</td>\n",
       "      <td>0.451408</td>\n",
       "      <td>3.675485</td>\n",
       "      <td>1.894621</td>\n",
       "      <td>2.939680</td>\n",
       "      <td>3.654433</td>\n",
       "      <td>49.207036</td>\n",
       "    </tr>\n",
       "    <tr>\n",
       "      <th>min</th>\n",
       "      <td>50001.000000</td>\n",
       "      <td>0.000000</td>\n",
       "      <td>0.000000</td>\n",
       "      <td>1.000000</td>\n",
       "      <td>5.000000</td>\n",
       "      <td>0.000000</td>\n",
       "      <td>1.000000</td>\n",
       "      <td>1.000000</td>\n",
       "      <td>1.000000</td>\n",
       "      <td>0.000000</td>\n",
       "      <td>11.000000</td>\n",
       "      <td>0.000000</td>\n",
       "      <td>1.000000</td>\n",
       "      <td>0.000000</td>\n",
       "      <td>0.000000</td>\n",
       "    </tr>\n",
       "    <tr>\n",
       "      <th>25%</th>\n",
       "      <td>51408.250000</td>\n",
       "      <td>0.000000</td>\n",
       "      <td>2.000000</td>\n",
       "      <td>1.000000</td>\n",
       "      <td>9.000000</td>\n",
       "      <td>2.000000</td>\n",
       "      <td>3.000000</td>\n",
       "      <td>2.000000</td>\n",
       "      <td>2.000000</td>\n",
       "      <td>0.000000</td>\n",
       "      <td>13.000000</td>\n",
       "      <td>1.000000</td>\n",
       "      <td>1.000000</td>\n",
       "      <td>2.000000</td>\n",
       "      <td>145.770000</td>\n",
       "    </tr>\n",
       "    <tr>\n",
       "      <th>50%</th>\n",
       "      <td>52815.500000</td>\n",
       "      <td>0.000000</td>\n",
       "      <td>9.000000</td>\n",
       "      <td>1.000000</td>\n",
       "      <td>14.000000</td>\n",
       "      <td>3.000000</td>\n",
       "      <td>4.000000</td>\n",
       "      <td>3.000000</td>\n",
       "      <td>3.000000</td>\n",
       "      <td>0.000000</td>\n",
       "      <td>15.000000</td>\n",
       "      <td>1.000000</td>\n",
       "      <td>2.000000</td>\n",
       "      <td>3.000000</td>\n",
       "      <td>163.280000</td>\n",
       "    </tr>\n",
       "    <tr>\n",
       "      <th>75%</th>\n",
       "      <td>54222.750000</td>\n",
       "      <td>0.000000</td>\n",
       "      <td>16.000000</td>\n",
       "      <td>3.000000</td>\n",
       "      <td>20.000000</td>\n",
       "      <td>3.000000</td>\n",
       "      <td>4.000000</td>\n",
       "      <td>4.000000</td>\n",
       "      <td>6.000000</td>\n",
       "      <td>1.000000</td>\n",
       "      <td>18.000000</td>\n",
       "      <td>2.000000</td>\n",
       "      <td>3.000000</td>\n",
       "      <td>7.000000</td>\n",
       "      <td>196.392500</td>\n",
       "    </tr>\n",
       "    <tr>\n",
       "      <th>max</th>\n",
       "      <td>55630.000000</td>\n",
       "      <td>1.000000</td>\n",
       "      <td>61.000000</td>\n",
       "      <td>3.000000</td>\n",
       "      <td>127.000000</td>\n",
       "      <td>5.000000</td>\n",
       "      <td>6.000000</td>\n",
       "      <td>5.000000</td>\n",
       "      <td>22.000000</td>\n",
       "      <td>1.000000</td>\n",
       "      <td>26.000000</td>\n",
       "      <td>16.000000</td>\n",
       "      <td>16.000000</td>\n",
       "      <td>46.000000</td>\n",
       "      <td>324.990000</td>\n",
       "    </tr>\n",
       "  </tbody>\n",
       "</table>\n",
       "</div>"
      ],
      "text/plain": [
       "         CustomerID        Churn       Tenure     CityTier  WarehouseToHome  \\\n",
       "count   5630.000000  5630.000000  5366.000000  5630.000000      5379.000000   \n",
       "mean   52815.500000     0.168384    10.189899     1.654707        15.639896   \n",
       "std     1625.385339     0.374240     8.557241     0.915389         8.531475   \n",
       "min    50001.000000     0.000000     0.000000     1.000000         5.000000   \n",
       "25%    51408.250000     0.000000     2.000000     1.000000         9.000000   \n",
       "50%    52815.500000     0.000000     9.000000     1.000000        14.000000   \n",
       "75%    54222.750000     0.000000    16.000000     3.000000        20.000000   \n",
       "max    55630.000000     1.000000    61.000000     3.000000       127.000000   \n",
       "\n",
       "       HourSpendOnApp  NumberOfDeviceRegistered  SatisfactionScore  \\\n",
       "count     5375.000000               5630.000000        5630.000000   \n",
       "mean         2.931535                  3.688988           3.066785   \n",
       "std          0.721926                  1.023999           1.380194   \n",
       "min          0.000000                  1.000000           1.000000   \n",
       "25%          2.000000                  3.000000           2.000000   \n",
       "50%          3.000000                  4.000000           3.000000   \n",
       "75%          3.000000                  4.000000           4.000000   \n",
       "max          5.000000                  6.000000           5.000000   \n",
       "\n",
       "       NumberOfAddress     Complain  OrderAmountHikeFromlastYear   CouponUsed  \\\n",
       "count      5630.000000  5630.000000                  5365.000000  5374.000000   \n",
       "mean          4.214032     0.284902                    15.707922     1.751023   \n",
       "std           2.583586     0.451408                     3.675485     1.894621   \n",
       "min           1.000000     0.000000                    11.000000     0.000000   \n",
       "25%           2.000000     0.000000                    13.000000     1.000000   \n",
       "50%           3.000000     0.000000                    15.000000     1.000000   \n",
       "75%           6.000000     1.000000                    18.000000     2.000000   \n",
       "max          22.000000     1.000000                    26.000000    16.000000   \n",
       "\n",
       "        OrderCount  DaySinceLastOrder  CashbackAmount  \n",
       "count  5372.000000        5323.000000     5630.000000  \n",
       "mean      3.008004           4.543491      177.223030  \n",
       "std       2.939680           3.654433       49.207036  \n",
       "min       1.000000           0.000000        0.000000  \n",
       "25%       1.000000           2.000000      145.770000  \n",
       "50%       2.000000           3.000000      163.280000  \n",
       "75%       3.000000           7.000000      196.392500  \n",
       "max      16.000000          46.000000      324.990000  "
      ]
     },
     "execution_count": 5,
     "metadata": {},
     "output_type": "execute_result"
    }
   ],
   "source": [
    "df.columns\n",
    "df.info()\n",
    "df.describe()"
   ]
  },
  {
   "cell_type": "code",
   "execution_count": 6,
   "id": "ba2741e1-816a-49dc-9e54-425fc673d60f",
   "metadata": {},
   "outputs": [],
   "source": [
    "def unik (x):\n",
    "    Type=[]\n",
    "    Count=[]\n",
    "    Sample=[]\n",
    "    MissVal=[]\n",
    "    for i in x.columns:\n",
    "        Sample.append(x[i].unique()[:10])\n",
    "        Count.append(x[i].nunique())\n",
    "        Type.append(x[i].dtype)\n",
    "        MissVal.append(x[i].isna().sum())\n",
    "    unik=pd.DataFrame({\n",
    "        'Columns':df.columns,\n",
    "        'Dtype':Type,\n",
    "        'Nunique':Count,\n",
    "        'Missing Value':MissVal,\n",
    "        'Unique':Sample\n",
    "    })\n",
    "    return unik"
   ]
  },
  {
   "cell_type": "code",
   "execution_count": 7,
   "id": "0ff1cc91-4e20-42aa-87e7-371c066e1b7f",
   "metadata": {},
   "outputs": [
    {
     "data": {
      "text/html": [
       "<div>\n",
       "<style scoped>\n",
       "    .dataframe tbody tr th:only-of-type {\n",
       "        vertical-align: middle;\n",
       "    }\n",
       "\n",
       "    .dataframe tbody tr th {\n",
       "        vertical-align: top;\n",
       "    }\n",
       "\n",
       "    .dataframe thead th {\n",
       "        text-align: right;\n",
       "    }\n",
       "</style>\n",
       "<table border=\"1\" class=\"dataframe\">\n",
       "  <thead>\n",
       "    <tr style=\"text-align: right;\">\n",
       "      <th></th>\n",
       "      <th>Columns</th>\n",
       "      <th>Dtype</th>\n",
       "      <th>Nunique</th>\n",
       "      <th>Missing Value</th>\n",
       "      <th>Unique</th>\n",
       "    </tr>\n",
       "  </thead>\n",
       "  <tbody>\n",
       "    <tr>\n",
       "      <th>0</th>\n",
       "      <td>CustomerID</td>\n",
       "      <td>int64</td>\n",
       "      <td>5630</td>\n",
       "      <td>0</td>\n",
       "      <td>[50001, 50002, 50003, 50004, 50005, 50006, 500...</td>\n",
       "    </tr>\n",
       "    <tr>\n",
       "      <th>1</th>\n",
       "      <td>Churn</td>\n",
       "      <td>int64</td>\n",
       "      <td>2</td>\n",
       "      <td>0</td>\n",
       "      <td>[1, 0]</td>\n",
       "    </tr>\n",
       "    <tr>\n",
       "      <th>2</th>\n",
       "      <td>Tenure</td>\n",
       "      <td>float64</td>\n",
       "      <td>36</td>\n",
       "      <td>264</td>\n",
       "      <td>[4.0, nan, 0.0, 13.0, 11.0, 9.0, 19.0, 20.0, 1...</td>\n",
       "    </tr>\n",
       "    <tr>\n",
       "      <th>3</th>\n",
       "      <td>PreferredLoginDevice</td>\n",
       "      <td>object</td>\n",
       "      <td>3</td>\n",
       "      <td>0</td>\n",
       "      <td>[Mobile Phone, Phone, Computer]</td>\n",
       "    </tr>\n",
       "    <tr>\n",
       "      <th>4</th>\n",
       "      <td>CityTier</td>\n",
       "      <td>int64</td>\n",
       "      <td>3</td>\n",
       "      <td>0</td>\n",
       "      <td>[3, 1, 2]</td>\n",
       "    </tr>\n",
       "    <tr>\n",
       "      <th>5</th>\n",
       "      <td>WarehouseToHome</td>\n",
       "      <td>float64</td>\n",
       "      <td>34</td>\n",
       "      <td>251</td>\n",
       "      <td>[6.0, 8.0, 30.0, 15.0, 12.0, 22.0, 11.0, 9.0, ...</td>\n",
       "    </tr>\n",
       "    <tr>\n",
       "      <th>6</th>\n",
       "      <td>PreferredPaymentMode</td>\n",
       "      <td>object</td>\n",
       "      <td>7</td>\n",
       "      <td>0</td>\n",
       "      <td>[Debit Card, UPI, CC, Cash on Delivery, E wall...</td>\n",
       "    </tr>\n",
       "    <tr>\n",
       "      <th>7</th>\n",
       "      <td>Gender</td>\n",
       "      <td>object</td>\n",
       "      <td>2</td>\n",
       "      <td>0</td>\n",
       "      <td>[Female, Male]</td>\n",
       "    </tr>\n",
       "    <tr>\n",
       "      <th>8</th>\n",
       "      <td>HourSpendOnApp</td>\n",
       "      <td>float64</td>\n",
       "      <td>6</td>\n",
       "      <td>255</td>\n",
       "      <td>[3.0, 2.0, nan, 1.0, 0.0, 4.0, 5.0]</td>\n",
       "    </tr>\n",
       "    <tr>\n",
       "      <th>9</th>\n",
       "      <td>NumberOfDeviceRegistered</td>\n",
       "      <td>int64</td>\n",
       "      <td>6</td>\n",
       "      <td>0</td>\n",
       "      <td>[3, 4, 5, 2, 1, 6]</td>\n",
       "    </tr>\n",
       "    <tr>\n",
       "      <th>10</th>\n",
       "      <td>PreferedOrderCat</td>\n",
       "      <td>object</td>\n",
       "      <td>6</td>\n",
       "      <td>0</td>\n",
       "      <td>[Laptop &amp; Accessory, Mobile, Mobile Phone, Oth...</td>\n",
       "    </tr>\n",
       "    <tr>\n",
       "      <th>11</th>\n",
       "      <td>SatisfactionScore</td>\n",
       "      <td>int64</td>\n",
       "      <td>5</td>\n",
       "      <td>0</td>\n",
       "      <td>[2, 3, 5, 4, 1]</td>\n",
       "    </tr>\n",
       "    <tr>\n",
       "      <th>12</th>\n",
       "      <td>MaritalStatus</td>\n",
       "      <td>object</td>\n",
       "      <td>3</td>\n",
       "      <td>0</td>\n",
       "      <td>[Single, Divorced, Married]</td>\n",
       "    </tr>\n",
       "    <tr>\n",
       "      <th>13</th>\n",
       "      <td>NumberOfAddress</td>\n",
       "      <td>int64</td>\n",
       "      <td>15</td>\n",
       "      <td>0</td>\n",
       "      <td>[9, 7, 6, 8, 3, 2, 4, 10, 1, 5]</td>\n",
       "    </tr>\n",
       "    <tr>\n",
       "      <th>14</th>\n",
       "      <td>Complain</td>\n",
       "      <td>int64</td>\n",
       "      <td>2</td>\n",
       "      <td>0</td>\n",
       "      <td>[1, 0]</td>\n",
       "    </tr>\n",
       "    <tr>\n",
       "      <th>15</th>\n",
       "      <td>OrderAmountHikeFromlastYear</td>\n",
       "      <td>float64</td>\n",
       "      <td>16</td>\n",
       "      <td>265</td>\n",
       "      <td>[11.0, 15.0, 14.0, 23.0, 22.0, 16.0, 12.0, nan...</td>\n",
       "    </tr>\n",
       "    <tr>\n",
       "      <th>16</th>\n",
       "      <td>CouponUsed</td>\n",
       "      <td>float64</td>\n",
       "      <td>17</td>\n",
       "      <td>256</td>\n",
       "      <td>[1.0, 0.0, 4.0, 2.0, 9.0, 6.0, 11.0, nan, 7.0,...</td>\n",
       "    </tr>\n",
       "    <tr>\n",
       "      <th>17</th>\n",
       "      <td>OrderCount</td>\n",
       "      <td>float64</td>\n",
       "      <td>16</td>\n",
       "      <td>258</td>\n",
       "      <td>[1.0, 6.0, 2.0, 15.0, 4.0, 7.0, 3.0, 9.0, nan,...</td>\n",
       "    </tr>\n",
       "    <tr>\n",
       "      <th>18</th>\n",
       "      <td>DaySinceLastOrder</td>\n",
       "      <td>float64</td>\n",
       "      <td>22</td>\n",
       "      <td>307</td>\n",
       "      <td>[5.0, 0.0, 3.0, 7.0, 2.0, 1.0, 8.0, 6.0, 4.0, ...</td>\n",
       "    </tr>\n",
       "    <tr>\n",
       "      <th>19</th>\n",
       "      <td>CashbackAmount</td>\n",
       "      <td>float64</td>\n",
       "      <td>2586</td>\n",
       "      <td>0</td>\n",
       "      <td>[159.93, 120.9, 120.28, 134.07, 129.6, 139.19,...</td>\n",
       "    </tr>\n",
       "  </tbody>\n",
       "</table>\n",
       "</div>"
      ],
      "text/plain": [
       "                        Columns    Dtype  Nunique  Missing Value  \\\n",
       "0                    CustomerID    int64     5630              0   \n",
       "1                         Churn    int64        2              0   \n",
       "2                        Tenure  float64       36            264   \n",
       "3          PreferredLoginDevice   object        3              0   \n",
       "4                      CityTier    int64        3              0   \n",
       "5               WarehouseToHome  float64       34            251   \n",
       "6          PreferredPaymentMode   object        7              0   \n",
       "7                        Gender   object        2              0   \n",
       "8                HourSpendOnApp  float64        6            255   \n",
       "9      NumberOfDeviceRegistered    int64        6              0   \n",
       "10             PreferedOrderCat   object        6              0   \n",
       "11            SatisfactionScore    int64        5              0   \n",
       "12                MaritalStatus   object        3              0   \n",
       "13              NumberOfAddress    int64       15              0   \n",
       "14                     Complain    int64        2              0   \n",
       "15  OrderAmountHikeFromlastYear  float64       16            265   \n",
       "16                   CouponUsed  float64       17            256   \n",
       "17                   OrderCount  float64       16            258   \n",
       "18            DaySinceLastOrder  float64       22            307   \n",
       "19               CashbackAmount  float64     2586              0   \n",
       "\n",
       "                                               Unique  \n",
       "0   [50001, 50002, 50003, 50004, 50005, 50006, 500...  \n",
       "1                                              [1, 0]  \n",
       "2   [4.0, nan, 0.0, 13.0, 11.0, 9.0, 19.0, 20.0, 1...  \n",
       "3                     [Mobile Phone, Phone, Computer]  \n",
       "4                                           [3, 1, 2]  \n",
       "5   [6.0, 8.0, 30.0, 15.0, 12.0, 22.0, 11.0, 9.0, ...  \n",
       "6   [Debit Card, UPI, CC, Cash on Delivery, E wall...  \n",
       "7                                      [Female, Male]  \n",
       "8                 [3.0, 2.0, nan, 1.0, 0.0, 4.0, 5.0]  \n",
       "9                                  [3, 4, 5, 2, 1, 6]  \n",
       "10  [Laptop & Accessory, Mobile, Mobile Phone, Oth...  \n",
       "11                                    [2, 3, 5, 4, 1]  \n",
       "12                        [Single, Divorced, Married]  \n",
       "13                    [9, 7, 6, 8, 3, 2, 4, 10, 1, 5]  \n",
       "14                                             [1, 0]  \n",
       "15  [11.0, 15.0, 14.0, 23.0, 22.0, 16.0, 12.0, nan...  \n",
       "16  [1.0, 0.0, 4.0, 2.0, 9.0, 6.0, 11.0, nan, 7.0,...  \n",
       "17  [1.0, 6.0, 2.0, 15.0, 4.0, 7.0, 3.0, 9.0, nan,...  \n",
       "18  [5.0, 0.0, 3.0, 7.0, 2.0, 1.0, 8.0, 6.0, 4.0, ...  \n",
       "19  [159.93, 120.9, 120.28, 134.07, 129.6, 139.19,...  "
      ]
     },
     "execution_count": 7,
     "metadata": {},
     "output_type": "execute_result"
    }
   ],
   "source": [
    "unik(df)"
   ]
  },
  {
   "cell_type": "markdown",
   "id": "4bdb9eba-5c17-4260-a931-2def1c626f82",
   "metadata": {},
   "source": [
    "## Value yang sama"
   ]
  },
  {
   "cell_type": "code",
   "execution_count": 8,
   "id": "4d6f93da-0bbf-4b59-886e-4ecd7597e2de",
   "metadata": {},
   "outputs": [
    {
     "data": {
      "text/plain": [
       "array(['Debit Card', 'UPI', 'CC', 'Cash on Delivery', 'E wallet', 'COD',\n",
       "       'Credit Card'], dtype=object)"
      ]
     },
     "execution_count": 8,
     "metadata": {},
     "output_type": "execute_result"
    }
   ],
   "source": [
    "df['PreferredPaymentMode'].unique()"
   ]
  },
  {
   "cell_type": "code",
   "execution_count": 9,
   "id": "5585a040-f5a4-4c31-9bdd-a8817f527906",
   "metadata": {},
   "outputs": [
    {
     "data": {
      "text/plain": [
       "array(['Laptop & Accessory', 'Mobile', 'Mobile Phone', 'Others',\n",
       "       'Fashion', 'Grocery'], dtype=object)"
      ]
     },
     "execution_count": 9,
     "metadata": {},
     "output_type": "execute_result"
    }
   ],
   "source": [
    "df['PreferedOrderCat'].unique()"
   ]
  },
  {
   "cell_type": "code",
   "execution_count": 10,
   "id": "d627cb12-ff3b-453e-8cd3-0514ca98ecbc",
   "metadata": {},
   "outputs": [
    {
     "data": {
      "text/plain": [
       "array(['Mobile Phone', 'Phone', 'Computer'], dtype=object)"
      ]
     },
     "execution_count": 10,
     "metadata": {},
     "output_type": "execute_result"
    }
   ],
   "source": [
    "df['PreferredLoginDevice'].unique()"
   ]
  },
  {
   "cell_type": "markdown",
   "id": "886529a3-07e0-420c-ba52-1d05ca7dd6b2",
   "metadata": {},
   "source": [
    "### Mengubah Value yang memiliki arti yang sama \n",
    "Pada kolom **PreferrefPaymentMode**,**PreferredOrderCat** dan **PreferredLoginDevice**"
   ]
  },
  {
   "cell_type": "code",
   "execution_count": 11,
   "id": "89a290d6-f095-4965-861c-ade85b47a7d4",
   "metadata": {},
   "outputs": [],
   "source": [
    "df=df.replace({'CC':'Credit Card','COD':'Cash on Delivery'})\n",
    "df=df.replace({'Mobile':'Mobile Phone','Phone':'Mobile Phone'})\n"
   ]
  },
  {
   "cell_type": "code",
   "execution_count": 12,
   "id": "1a7f6222-4491-4e4f-8c96-18774c91ea1e",
   "metadata": {},
   "outputs": [
    {
     "data": {
      "text/html": [
       "<div>\n",
       "<style scoped>\n",
       "    .dataframe tbody tr th:only-of-type {\n",
       "        vertical-align: middle;\n",
       "    }\n",
       "\n",
       "    .dataframe tbody tr th {\n",
       "        vertical-align: top;\n",
       "    }\n",
       "\n",
       "    .dataframe thead th {\n",
       "        text-align: right;\n",
       "    }\n",
       "</style>\n",
       "<table border=\"1\" class=\"dataframe\">\n",
       "  <thead>\n",
       "    <tr style=\"text-align: right;\">\n",
       "      <th></th>\n",
       "      <th>Columns</th>\n",
       "      <th>Dtype</th>\n",
       "      <th>Nunique</th>\n",
       "      <th>Missing Value</th>\n",
       "      <th>Unique</th>\n",
       "    </tr>\n",
       "  </thead>\n",
       "  <tbody>\n",
       "    <tr>\n",
       "      <th>0</th>\n",
       "      <td>CustomerID</td>\n",
       "      <td>int64</td>\n",
       "      <td>5630</td>\n",
       "      <td>0</td>\n",
       "      <td>[50001, 50002, 50003, 50004, 50005, 50006, 500...</td>\n",
       "    </tr>\n",
       "    <tr>\n",
       "      <th>1</th>\n",
       "      <td>Churn</td>\n",
       "      <td>int64</td>\n",
       "      <td>2</td>\n",
       "      <td>0</td>\n",
       "      <td>[1, 0]</td>\n",
       "    </tr>\n",
       "    <tr>\n",
       "      <th>2</th>\n",
       "      <td>Tenure</td>\n",
       "      <td>float64</td>\n",
       "      <td>36</td>\n",
       "      <td>264</td>\n",
       "      <td>[4.0, nan, 0.0, 13.0, 11.0, 9.0, 19.0, 20.0, 1...</td>\n",
       "    </tr>\n",
       "    <tr>\n",
       "      <th>3</th>\n",
       "      <td>PreferredLoginDevice</td>\n",
       "      <td>object</td>\n",
       "      <td>2</td>\n",
       "      <td>0</td>\n",
       "      <td>[Mobile Phone, Computer]</td>\n",
       "    </tr>\n",
       "    <tr>\n",
       "      <th>4</th>\n",
       "      <td>CityTier</td>\n",
       "      <td>int64</td>\n",
       "      <td>3</td>\n",
       "      <td>0</td>\n",
       "      <td>[3, 1, 2]</td>\n",
       "    </tr>\n",
       "    <tr>\n",
       "      <th>5</th>\n",
       "      <td>WarehouseToHome</td>\n",
       "      <td>float64</td>\n",
       "      <td>34</td>\n",
       "      <td>251</td>\n",
       "      <td>[6.0, 8.0, 30.0, 15.0, 12.0, 22.0, 11.0, 9.0, ...</td>\n",
       "    </tr>\n",
       "    <tr>\n",
       "      <th>6</th>\n",
       "      <td>PreferredPaymentMode</td>\n",
       "      <td>object</td>\n",
       "      <td>5</td>\n",
       "      <td>0</td>\n",
       "      <td>[Debit Card, UPI, Credit Card, Cash on Deliver...</td>\n",
       "    </tr>\n",
       "    <tr>\n",
       "      <th>7</th>\n",
       "      <td>Gender</td>\n",
       "      <td>object</td>\n",
       "      <td>2</td>\n",
       "      <td>0</td>\n",
       "      <td>[Female, Male]</td>\n",
       "    </tr>\n",
       "    <tr>\n",
       "      <th>8</th>\n",
       "      <td>HourSpendOnApp</td>\n",
       "      <td>float64</td>\n",
       "      <td>6</td>\n",
       "      <td>255</td>\n",
       "      <td>[3.0, 2.0, nan, 1.0, 0.0, 4.0, 5.0]</td>\n",
       "    </tr>\n",
       "    <tr>\n",
       "      <th>9</th>\n",
       "      <td>NumberOfDeviceRegistered</td>\n",
       "      <td>int64</td>\n",
       "      <td>6</td>\n",
       "      <td>0</td>\n",
       "      <td>[3, 4, 5, 2, 1, 6]</td>\n",
       "    </tr>\n",
       "    <tr>\n",
       "      <th>10</th>\n",
       "      <td>PreferedOrderCat</td>\n",
       "      <td>object</td>\n",
       "      <td>5</td>\n",
       "      <td>0</td>\n",
       "      <td>[Laptop &amp; Accessory, Mobile Phone, Others, Fas...</td>\n",
       "    </tr>\n",
       "    <tr>\n",
       "      <th>11</th>\n",
       "      <td>SatisfactionScore</td>\n",
       "      <td>int64</td>\n",
       "      <td>5</td>\n",
       "      <td>0</td>\n",
       "      <td>[2, 3, 5, 4, 1]</td>\n",
       "    </tr>\n",
       "    <tr>\n",
       "      <th>12</th>\n",
       "      <td>MaritalStatus</td>\n",
       "      <td>object</td>\n",
       "      <td>3</td>\n",
       "      <td>0</td>\n",
       "      <td>[Single, Divorced, Married]</td>\n",
       "    </tr>\n",
       "    <tr>\n",
       "      <th>13</th>\n",
       "      <td>NumberOfAddress</td>\n",
       "      <td>int64</td>\n",
       "      <td>15</td>\n",
       "      <td>0</td>\n",
       "      <td>[9, 7, 6, 8, 3, 2, 4, 10, 1, 5]</td>\n",
       "    </tr>\n",
       "    <tr>\n",
       "      <th>14</th>\n",
       "      <td>Complain</td>\n",
       "      <td>int64</td>\n",
       "      <td>2</td>\n",
       "      <td>0</td>\n",
       "      <td>[1, 0]</td>\n",
       "    </tr>\n",
       "    <tr>\n",
       "      <th>15</th>\n",
       "      <td>OrderAmountHikeFromlastYear</td>\n",
       "      <td>float64</td>\n",
       "      <td>16</td>\n",
       "      <td>265</td>\n",
       "      <td>[11.0, 15.0, 14.0, 23.0, 22.0, 16.0, 12.0, nan...</td>\n",
       "    </tr>\n",
       "    <tr>\n",
       "      <th>16</th>\n",
       "      <td>CouponUsed</td>\n",
       "      <td>float64</td>\n",
       "      <td>17</td>\n",
       "      <td>256</td>\n",
       "      <td>[1.0, 0.0, 4.0, 2.0, 9.0, 6.0, 11.0, nan, 7.0,...</td>\n",
       "    </tr>\n",
       "    <tr>\n",
       "      <th>17</th>\n",
       "      <td>OrderCount</td>\n",
       "      <td>float64</td>\n",
       "      <td>16</td>\n",
       "      <td>258</td>\n",
       "      <td>[1.0, 6.0, 2.0, 15.0, 4.0, 7.0, 3.0, 9.0, nan,...</td>\n",
       "    </tr>\n",
       "    <tr>\n",
       "      <th>18</th>\n",
       "      <td>DaySinceLastOrder</td>\n",
       "      <td>float64</td>\n",
       "      <td>22</td>\n",
       "      <td>307</td>\n",
       "      <td>[5.0, 0.0, 3.0, 7.0, 2.0, 1.0, 8.0, 6.0, 4.0, ...</td>\n",
       "    </tr>\n",
       "    <tr>\n",
       "      <th>19</th>\n",
       "      <td>CashbackAmount</td>\n",
       "      <td>float64</td>\n",
       "      <td>2586</td>\n",
       "      <td>0</td>\n",
       "      <td>[159.93, 120.9, 120.28, 134.07, 129.6, 139.19,...</td>\n",
       "    </tr>\n",
       "  </tbody>\n",
       "</table>\n",
       "</div>"
      ],
      "text/plain": [
       "                        Columns    Dtype  Nunique  Missing Value  \\\n",
       "0                    CustomerID    int64     5630              0   \n",
       "1                         Churn    int64        2              0   \n",
       "2                        Tenure  float64       36            264   \n",
       "3          PreferredLoginDevice   object        2              0   \n",
       "4                      CityTier    int64        3              0   \n",
       "5               WarehouseToHome  float64       34            251   \n",
       "6          PreferredPaymentMode   object        5              0   \n",
       "7                        Gender   object        2              0   \n",
       "8                HourSpendOnApp  float64        6            255   \n",
       "9      NumberOfDeviceRegistered    int64        6              0   \n",
       "10             PreferedOrderCat   object        5              0   \n",
       "11            SatisfactionScore    int64        5              0   \n",
       "12                MaritalStatus   object        3              0   \n",
       "13              NumberOfAddress    int64       15              0   \n",
       "14                     Complain    int64        2              0   \n",
       "15  OrderAmountHikeFromlastYear  float64       16            265   \n",
       "16                   CouponUsed  float64       17            256   \n",
       "17                   OrderCount  float64       16            258   \n",
       "18            DaySinceLastOrder  float64       22            307   \n",
       "19               CashbackAmount  float64     2586              0   \n",
       "\n",
       "                                               Unique  \n",
       "0   [50001, 50002, 50003, 50004, 50005, 50006, 500...  \n",
       "1                                              [1, 0]  \n",
       "2   [4.0, nan, 0.0, 13.0, 11.0, 9.0, 19.0, 20.0, 1...  \n",
       "3                            [Mobile Phone, Computer]  \n",
       "4                                           [3, 1, 2]  \n",
       "5   [6.0, 8.0, 30.0, 15.0, 12.0, 22.0, 11.0, 9.0, ...  \n",
       "6   [Debit Card, UPI, Credit Card, Cash on Deliver...  \n",
       "7                                      [Female, Male]  \n",
       "8                 [3.0, 2.0, nan, 1.0, 0.0, 4.0, 5.0]  \n",
       "9                                  [3, 4, 5, 2, 1, 6]  \n",
       "10  [Laptop & Accessory, Mobile Phone, Others, Fas...  \n",
       "11                                    [2, 3, 5, 4, 1]  \n",
       "12                        [Single, Divorced, Married]  \n",
       "13                    [9, 7, 6, 8, 3, 2, 4, 10, 1, 5]  \n",
       "14                                             [1, 0]  \n",
       "15  [11.0, 15.0, 14.0, 23.0, 22.0, 16.0, 12.0, nan...  \n",
       "16  [1.0, 0.0, 4.0, 2.0, 9.0, 6.0, 11.0, nan, 7.0,...  \n",
       "17  [1.0, 6.0, 2.0, 15.0, 4.0, 7.0, 3.0, 9.0, nan,...  \n",
       "18  [5.0, 0.0, 3.0, 7.0, 2.0, 1.0, 8.0, 6.0, 4.0, ...  \n",
       "19  [159.93, 120.9, 120.28, 134.07, 129.6, 139.19,...  "
      ]
     },
     "execution_count": 12,
     "metadata": {},
     "output_type": "execute_result"
    }
   ],
   "source": [
    "unik(df)"
   ]
  },
  {
   "cell_type": "code",
   "execution_count": 13,
   "id": "a626d6a6-42d3-41ca-a58d-808d447eeca5",
   "metadata": {},
   "outputs": [],
   "source": [
    "df_duplicated=df.drop(columns='CustomerID')"
   ]
  },
  {
   "cell_type": "code",
   "execution_count": 14,
   "id": "2baf5a93-98e9-445e-adfb-172b550bf4aa",
   "metadata": {},
   "outputs": [
    {
     "data": {
      "text/plain": [
       "557"
      ]
     },
     "execution_count": 14,
     "metadata": {},
     "output_type": "execute_result"
    }
   ],
   "source": [
    "df_duplicated.duplicated().sum()"
   ]
  },
  {
   "cell_type": "markdown",
   "id": "f09b5ecf-20de-468f-a3bd-6798f8e755b3",
   "metadata": {},
   "source": [
    "## Missing Value"
   ]
  },
  {
   "cell_type": "code",
   "execution_count": 15,
   "id": "a8e871ae-81c1-4b3b-9c75-455477dc68e6",
   "metadata": {},
   "outputs": [
    {
     "data": {
      "image/png": "[encoded data removed]",
      "text/plain": [
       "<Figure size 864x432 with 3 Axes>"
      ]
     },
     "metadata": {
      "needs_background": "light"
     },
     "output_type": "display_data"
    }
   ],
   "source": [
    "msno.bar(df, sort=\"ascending\", figsize=(12,6), fontsize=12, color='blue');"
   ]
  },
  {
   "cell_type": "markdown",
   "id": "cbd1ec7c-a3d7-4073-82b0-fcc0289ebe41",
   "metadata": {},
   "source": [
    "Berdasarkan visualisasi yang sudah dilakukan didapatkan informasi bahwa **missing value** terdapat pada feature DaySinceLastOrder,OrderAmountHikeFromlastYear,Tenure,OrderCount,CouponUsed,HoursSpendonApp dan WarehouseToHome"
   ]
  },
  {
   "cell_type": "code",
   "execution_count": 16,
   "id": "63a7d948-ca90-42bc-a03d-9affa29b4411",
   "metadata": {},
   "outputs": [
    {
     "data": {
      "image/png": "[encoded data removed]",
      "text/plain": [
       "<Figure size 504x504 with 1 Axes>"
      ]
     },
     "metadata": {},
     "output_type": "display_data"
    }
   ],
   "source": [
    "plt.figure(figsize=(7,7))\n",
    "plt.title(\"Number of Targets(Churn) in the dataset\", size=18, weight='bold')\n",
    "plt.pie(df['Churn'].value_counts(), explode=(0,0.1), labels=['No', 'Yes'], colors=[\"orange\",\"green\"], autopct='%1.1f%%', shadow=True, \n",
    "        startangle=90, textprops={\"fontsize\":20})\n",
    "\n",
    "plt.show()"
   ]
  },
  {
   "cell_type": "code",
   "execution_count": 17,
   "id": "203a4151-252d-4301-adbc-30c6c2ec2fb1",
   "metadata": {},
   "outputs": [
    {
     "data": {
      "text/plain": [
       "0    4682\n",
       "1     948\n",
       "Name: Churn, dtype: int64"
      ]
     },
     "execution_count": 17,
     "metadata": {},
     "output_type": "execute_result"
    }
   ],
   "source": [
    "df['Churn'].value_counts()"
   ]
  },
  {
   "cell_type": "markdown",
   "id": "7f9e937c-5942-4534-a986-a992b17e342a",
   "metadata": {},
   "source": [
    "Berdasarkan Visualisasi yang dilakukan terhadap target, didapatkan informasi bahwa terdapat 16.8% pelanggan yang melakukan Churn dari keseluruhan pelanggan."
   ]
  },
  {
   "cell_type": "markdown",
   "id": "f35c1d94-95ab-43c9-a801-a3b09bb14eb8",
   "metadata": {},
   "source": [
    "## Numerical Features"
   ]
  },
  {
   "cell_type": "code",
   "execution_count": 18,
   "id": "0471787e-3ae5-4bf1-99d2-44255abfb7f6",
   "metadata": {},
   "outputs": [],
   "source": [
    "from scipy.stats import normaltest\n"
   ]
  },
  {
   "cell_type": "code",
   "execution_count": 19,
   "id": "b9d968a2-9ff9-4797-8d3a-2d8dbee331fd",
   "metadata": {},
   "outputs": [
    {
     "data": {
      "text/html": [
       "<div>\n",
       "<style scoped>\n",
       "    .dataframe tbody tr th:only-of-type {\n",
       "        vertical-align: middle;\n",
       "    }\n",
       "\n",
       "    .dataframe tbody tr th {\n",
       "        vertical-align: top;\n",
       "    }\n",
       "\n",
       "    .dataframe thead th {\n",
       "        text-align: right;\n",
       "    }\n",
       "</style>\n",
       "<table border=\"1\" class=\"dataframe\">\n",
       "  <thead>\n",
       "    <tr style=\"text-align: right;\">\n",
       "      <th></th>\n",
       "      <th>column</th>\n",
       "      <th>skewness</th>\n",
       "      <th>pvalue score</th>\n",
       "    </tr>\n",
       "  </thead>\n",
       "  <tbody>\n",
       "    <tr>\n",
       "      <th>0</th>\n",
       "      <td>Tenure</td>\n",
       "      <td>0.736513</td>\n",
       "      <td>5.186549e-86</td>\n",
       "    </tr>\n",
       "    <tr>\n",
       "      <th>1</th>\n",
       "      <td>WarehouseToHome</td>\n",
       "      <td>1.619154</td>\n",
       "      <td>0.000000e+00</td>\n",
       "    </tr>\n",
       "    <tr>\n",
       "      <th>2</th>\n",
       "      <td>DaySinceLastOrder</td>\n",
       "      <td>1.191000</td>\n",
       "      <td>4.411831e-285</td>\n",
       "    </tr>\n",
       "    <tr>\n",
       "      <th>3</th>\n",
       "      <td>CashbackAmount</td>\n",
       "      <td>1.149846</td>\n",
       "      <td>4.411831e-285</td>\n",
       "    </tr>\n",
       "  </tbody>\n",
       "</table>\n",
       "</div>"
      ],
      "text/plain": [
       "              column  skewness   pvalue score\n",
       "0             Tenure  0.736513   5.186549e-86\n",
       "1    WarehouseToHome  1.619154   0.000000e+00\n",
       "2  DaySinceLastOrder  1.191000  4.411831e-285\n",
       "3     CashbackAmount  1.149846  4.411831e-285"
      ]
     },
     "execution_count": 19,
     "metadata": {},
     "output_type": "execute_result"
    },
    {
     "data": {
      "image/png": "[encoded data removed]",
      "text/plain": [
       "<Figure size 1440x288 with 4 Axes>"
      ]
     },
     "metadata": {
      "needs_background": "light"
     },
     "output_type": "display_data"
    }
   ],
   "source": [
    "continuous_viz = ['Tenure', 'WarehouseToHome', 'DaySinceLastOrder', 'CashbackAmount']\n",
    "fig = plt.figure(figsize=(20,4))\n",
    "subplot = 1\n",
    "\n",
    "for cont in continuous_viz:\n",
    "    plt.subplot(1,4,subplot)\n",
    "    sns.histplot(data=df, x=cont, kde=True)\n",
    "    plt.title(cont)\n",
    "    plt.tight_layout()\n",
    "    subplot+=1\n",
    "\n",
    "pvalue_cont = []\n",
    "skew_cont = []\n",
    "\n",
    "for cont in continuous_viz:\n",
    "    if df[cont].isna().any() == True:\n",
    "        s, pval = normaltest(df[cont].dropna())\n",
    "        pvalue_cont.append(pval)\n",
    "    else:\n",
    "        s, pvalue = normaltest(df[cont].dropna())\n",
    "        pvalue_cont.append(pval)\n",
    "    skew_cont.append(df[cont].skew())\n",
    "\n",
    "pvalue_cont = pd.DataFrame({'column': continuous_viz, 'skewness': skew_cont, 'pvalue score': pvalue_cont})\n",
    "pvalue_cont"
   ]
  },
  {
   "cell_type": "markdown",
   "id": "f60799e8-38f4-4429-ba9c-009f35803e5a",
   "metadata": {},
   "source": [
    "Berdasarkan visualisasi yang telah dilakukan didapatkan informasi sebagai berikut :\n",
    "* Pada Kolom Numerical yang bersifat kontinyu datanya bersifat right skew (skewness > 0)\n",
    "* Pada Kolom **Tenure** didapatkan bahwa pelanggan melakukan transaksi selama 2 bulan awal dan selanjutnya cenderung fluktuatif\n",
    "* Pada kolom **WarehouseToHome** didapatkan bahwa jarak terdekat dari warehouse ke rumah pelanggan pada jarak 5 km dan jarak terjauh pada 127 km\n",
    "* Pada kolom **DaySinceLastOrder** didapatkan bahwa pelanggan banyak melakukan transaksi selama 4 hari setelah transaksi terakhir\n",
    "* Pada kolom **CashbackAmount** didapatkan bahwa rata-rata pelanggan mendapatkan cashback sebesar 150$ berdasarkan data transaksi "
   ]
  },
  {
   "cell_type": "code",
   "execution_count": 100,
   "id": "6c00f697-376b-4c53-ac1b-81bf15a23a9b",
   "metadata": {},
   "outputs": [
    {
     "data": {
      "image/png": "[encoded data removed]",
      "text/plain": [
       "<Figure size 432x288 with 1 Axes>"
      ]
     },
     "metadata": {
      "needs_background": "light"
     },
     "output_type": "display_data"
    }
   ],
   "source": [
    "group = df.groupby(['Gender','MaritalStatus', 'Churn']).count()['CustomerID']\n",
    "\n",
    "group.unstack().plot(kind='bar', stacked=False)\n",
    "\n",
    "plt.xlabel('Gender and Marital')\n",
    "plt.ylabel('Count')\n",
    "plt.title('Churn by Gender')\n",
    "\n",
    "plt.show()"
   ]
  },
  {
   "cell_type": "markdown",
   "id": "e91b8e34-96ae-4c55-aadf-86d8cb1f6057",
   "metadata": {},
   "source": [
    "## Data Correlation"
   ]
  },
  {
   "cell_type": "code",
   "execution_count": 21,
   "id": "638446ef-1845-464b-a8a0-054333ea3297",
   "metadata": {},
   "outputs": [
    {
     "data": {
      "image/png": "[encoded data removed]",
      "text/plain": [
       "<Figure size 1008x576 with 2 Axes>"
      ]
     },
     "metadata": {
      "needs_background": "light"
     },
     "output_type": "display_data"
    }
   ],
   "source": [
    "corr = df.corr('spearman')\n",
    "plt.figure(figsize=(14,8))\n",
    "matrix = np.triu(corr)\n",
    "sns.heatmap(corr, annot=True, fmt='.3f', mask=matrix, cmap='RdYlGn')\n",
    "plt.title('Correlation Feature vs Churn (Target)', size=14, weight='bold');\n"
   ]
  },
  {
   "cell_type": "markdown",
   "id": "dcab5123-9b84-4871-8d4b-897d143aa3b9",
   "metadata": {},
   "source": [
    "Dilakukan Visualisasi heatmap untuk melihat korelasi antara feature dan target didapatkan informasi sebagai berikut :\n",
    "* Pada Kolom **Complain** memiliki korelasi positif terbesar yaitu dengan nilai korelasi **0.250**\n",
    "* Pada Feature **Tenure** memiliki korelasi negatif terbesar yaitu dengan nilai korelasi **-0.405** \n",
    "* Pada Feature lainnya memiliki nilai korelasi yang rendah yaitu dibawah **0.2** baik untuk korelasi negatif maupun positif"
   ]
  },
  {
   "cell_type": "markdown",
   "id": "40cf3e86-041d-4d0b-a031-f803a520b30b",
   "metadata": {},
   "source": [
    "## Categorical vs Target"
   ]
  },
  {
   "cell_type": "code",
   "execution_count": 22,
   "id": "cd3e2f09-bdab-4070-a38a-ec02d9dfbe39",
   "metadata": {},
   "outputs": [],
   "source": [
    "from scipy.stats import chi2_contingency"
   ]
  },
  {
   "cell_type": "code",
   "execution_count": 23,
   "id": "3cafe07c-6a61-4b98-ba19-b3062b1905b8",
   "metadata": {},
   "outputs": [
    {
     "data": {
      "text/html": [
       "<div>\n",
       "<style scoped>\n",
       "    .dataframe tbody tr th:only-of-type {\n",
       "        vertical-align: middle;\n",
       "    }\n",
       "\n",
       "    .dataframe tbody tr th {\n",
       "        vertical-align: top;\n",
       "    }\n",
       "\n",
       "    .dataframe thead th {\n",
       "        text-align: right;\n",
       "    }\n",
       "</style>\n",
       "<table border=\"1\" class=\"dataframe\">\n",
       "  <thead>\n",
       "    <tr style=\"text-align: right;\">\n",
       "      <th></th>\n",
       "      <th>categorical_features</th>\n",
       "      <th>chi2_score</th>\n",
       "      <th>notes</th>\n",
       "    </tr>\n",
       "  </thead>\n",
       "  <tbody>\n",
       "    <tr>\n",
       "      <th>0</th>\n",
       "      <td>PreferredLoginDevice</td>\n",
       "      <td>0.00015</td>\n",
       "      <td>dependent</td>\n",
       "    </tr>\n",
       "    <tr>\n",
       "      <th>1</th>\n",
       "      <td>PreferredPaymentMode</td>\n",
       "      <td>0.00000</td>\n",
       "      <td>dependent</td>\n",
       "    </tr>\n",
       "    <tr>\n",
       "      <th>2</th>\n",
       "      <td>Gender</td>\n",
       "      <td>0.03082</td>\n",
       "      <td>dependent</td>\n",
       "    </tr>\n",
       "    <tr>\n",
       "      <th>3</th>\n",
       "      <td>PreferedOrderCat</td>\n",
       "      <td>0.00000</td>\n",
       "      <td>dependent</td>\n",
       "    </tr>\n",
       "    <tr>\n",
       "      <th>4</th>\n",
       "      <td>MaritalStatus</td>\n",
       "      <td>0.00000</td>\n",
       "      <td>dependent</td>\n",
       "    </tr>\n",
       "  </tbody>\n",
       "</table>\n",
       "</div>"
      ],
      "text/plain": [
       "   categorical_features  chi2_score      notes\n",
       "0  PreferredLoginDevice     0.00015  dependent\n",
       "1  PreferredPaymentMode     0.00000  dependent\n",
       "2                Gender     0.03082  dependent\n",
       "3      PreferedOrderCat     0.00000  dependent\n",
       "4         MaritalStatus     0.00000  dependent"
      ]
     },
     "execution_count": 23,
     "metadata": {},
     "output_type": "execute_result"
    }
   ],
   "source": [
    "# Melakukan uji chi square\n",
    "cat_columns = list(df.describe(include='O').columns)\n",
    "chi2_score = []\n",
    "\n",
    "for i in cat_columns:\n",
    "  df_chi = pd.crosstab(df[i], df['Churn'])\n",
    "  stat, pvalue, dof, expected = chi2_contingency(df_chi)\n",
    "  chi2_score.append(round(pvalue, 5))\n",
    "\n",
    "df_chi_score = pd.DataFrame({'categorical_features': cat_columns,'chi2_score': chi2_score})\n",
    "df_chi_score['notes'] = np.where(df_chi_score['chi2_score'] > 0.05, 'independent', 'dependent')\n",
    "df_chi_score"
   ]
  },
  {
   "cell_type": "code",
   "execution_count": 24,
   "id": "d6aa95c4-154d-48e4-9cb7-7afdbd939570",
   "metadata": {},
   "outputs": [
    {
     "name": "stdout",
     "output_type": "stream",
     "text": [
      "Requirement already satisfied: missingno in c:\\users\\nanda reza\\anaconda3\\lib\\site-packages (0.5.1)\n",
      "Requirement already satisfied: seaborn in c:\\users\\nanda reza\\anaconda3\\lib\\site-packages (from missingno) (0.11.2)\n",
      "Requirement already satisfied: scipy in c:\\users\\nanda reza\\anaconda3\\lib\\site-packages (from missingno) (1.7.3)\n",
      "Requirement already satisfied: numpy in c:\\users\\nanda reza\\anaconda3\\lib\\site-packages (from missingno) (1.21.5)\n",
      "Requirement already satisfied: matplotlib in c:\\users\\nanda reza\\anaconda3\\lib\\site-packages (from missingno) (3.5.1)\n",
      "Requirement already satisfied: python-dateutil>=2.7 in c:\\users\\nanda reza\\anaconda3\\lib\\site-packages (from matplotlib->missingno) (2.8.2)\n",
      "Requirement already satisfied: pillow>=6.2.0 in c:\\users\\nanda reza\\anaconda3\\lib\\site-packages (from matplotlib->missingno) (9.0.1)\n",
      "Requirement already satisfied: packaging>=20.0 in c:\\users\\nanda reza\\anaconda3\\lib\\site-packages (from matplotlib->missingno) (21.3)\n",
      "Requirement already satisfied: cycler>=0.10 in c:\\users\\nanda reza\\anaconda3\\lib\\site-packages (from matplotlib->missingno) (0.11.0)\n",
      "Requirement already satisfied: kiwisolver>=1.0.1 in c:\\users\\nanda reza\\anaconda3\\lib\\site-packages (from matplotlib->missingno) (1.3.2)\n",
      "Requirement already satisfied: fonttools>=4.22.0 in c:\\users\\nanda reza\\anaconda3\\lib\\site-packages (from matplotlib->missingno) (4.25.0)\n",
      "Requirement already satisfied: pyparsing>=2.2.1 in c:\\users\\nanda reza\\anaconda3\\lib\\site-packages (from matplotlib->missingno) (3.0.4)\n",
      "Requirement already satisfied: six>=1.5 in c:\\users\\nanda reza\\anaconda3\\lib\\site-packages (from python-dateutil>=2.7->matplotlib->missingno) (1.16.0)\n",
      "Requirement already satisfied: pandas>=0.23 in c:\\users\\nanda reza\\anaconda3\\lib\\site-packages (from seaborn->missingno) (1.4.2)\n",
      "Requirement already satisfied: pytz>=2020.1 in c:\\users\\nanda reza\\anaconda3\\lib\\site-packages (from pandas>=0.23->seaborn->missingno) (2021.3)\n"
     ]
    }
   ],
   "source": [
    "!pip install missingno"
   ]
  },
  {
   "cell_type": "code",
   "execution_count": 25,
   "id": "829ae9f6-6b90-4acd-bd1e-6a17d9a5782b",
   "metadata": {},
   "outputs": [],
   "source": [
    "cat_features = [feature for feature in df.columns if df[feature].dtypes == 'O']"
   ]
  },
  {
   "cell_type": "code",
   "execution_count": 26,
   "id": "217dfda7-468c-44d8-80f3-b0c8f6655482",
   "metadata": {},
   "outputs": [],
   "source": [
    "listItem = []\n",
    "\n",
    "for col in df.columns :\n",
    "    listItem.append([col,\n",
    "                     df[col].dtype,\n",
    "                     len(df),\n",
    "                     df[col].isna().sum(),\n",
    "                     round((df[col].isna().sum()/len(df[col])) * 100,2),\n",
    "                     df[col].nunique(), \n",
    "                     df[col].unique()])"
   ]
  },
  {
   "cell_type": "code",
   "execution_count": 27,
   "id": "1862478c-56b8-476e-a658-08aadd74196b",
   "metadata": {},
   "outputs": [
    {
     "data": {
      "image/png": "[encoded data removed]",
      "text/plain": [
       "<Figure size 1728x720 with 5 Axes>"
      ]
     },
     "metadata": {},
     "output_type": "display_data"
    }
   ],
   "source": [
    "plt.figure(figsize=(24, 10), facecolor='white')\n",
    "plotnumber = 1\n",
    "\n",
    "for feature in cat_features[:]:\n",
    "\n",
    "        column1 = feature\n",
    "\n",
    "        # membuat table berdasarkan 2 kolom kategorikal\n",
    "        groupby_table = df.groupby([column1,'Churn']).size().unstack()\n",
    "\n",
    "        # fungsi untuk pelabelan dimana jika nilainya 0 tidak akan ditampilkan\n",
    "        def show() :\n",
    "            if height > 0 :\n",
    "                return '{:.0f}%'.format(height)\n",
    "            else :\n",
    "                return '' \n",
    "        \n",
    "        # subplot (letak grafik)\n",
    "        ax = plt.subplot(2, 5, plotnumber)\n",
    "        \n",
    "        # Value berdasarkan feature \n",
    "        (groupby_table.T*100.0 / groupby_table.T.sum()).T.plot(kind='bar',\n",
    "                                                                width = 0.5,\n",
    "                                                                stacked = True,\n",
    "                                                                rot = 0, \n",
    "                                                                ax = ax,\n",
    "                                                                color = ['navy', 'red'])\n",
    "\n",
    "        ax.legend(loc = 'lower right', prop={'size':9},title = 'Churn')\n",
    "        ax.set_ylabel('% Customers')\n",
    "        ax.set_title(f'Churn by {column1}',size = 12)\n",
    "\n",
    "        # menambahkan label data pada stacked bar chart\n",
    "        for p in ax.patches:\n",
    "            width, height = p.get_width(), p.get_height()\n",
    "            x, y = p.get_xy() \n",
    "            ax.annotate(show(), (p.get_x()+0.15*width, p.get_y()+.4*height),\n",
    "                        color = 'white',\n",
    "                        weight = 'bold',\n",
    "                        size = 11)\n",
    "                \n",
    "        plt.tight_layout();\n",
    "        \n",
    "        plotnumber += 1\n",
    "        "
   ]
  },
  {
   "cell_type": "markdown",
   "id": "b3948e63-2dfe-404b-8eac-31604cdcd2e9",
   "metadata": {},
   "source": [
    "Berdasarkan hasil dari visualisasi yang dilakukan categorical feature vs Target (Churn) didapatkan hasil sebagai berikut :\n",
    "* Pada Feature PreferredLoginDevice didapatkan informasi bahwa para pelanggan yang melakukan transaksi menggunakan Computer cenderung lebih banyak melakukan Churn dibandingkan dengan pelanggan yang melakukan transaksi menggunakan Mobile Phone masing-masing sebesar 20% dan 16% dari proporsi pelanggan yang melakukan Churn\n",
    "* Pada Feature PreferredPaymentMode didapatkan informasi bahwa para pelangagan yang melakukan pembayaran menggunakan Cash on Delivery cenderung lebih banyak melakukan Churn yaitu sebesar 25% dan diikuti oleh pembayaran menggunakan E-Wallet, Debitcard.\n",
    "* Pada Feature Gender didapatkan informasi bahwa pelanggan laki-laki cenderung melakukan churn masing-masing sebesar 18% dan 15 %\n",
    "* Pada Feature PreferredOrderCategory didapatkan informasi bahwa para pelanggan cenderung melakukan churn pada transaksi catergory Mobile Phone yaitu dengan proporsi 27% diikuti oleh pelanggan yang melakukan Churn sebesar 15%, Laptop dan Acc sebesar 10 %\n",
    "* Pada Feature MaritalStatus didapatkan informasi bahwa para pelnggan yang single cenderung melakukan churn yaitu sebesar 27% diikuti oleh Divorced sebesar 15% dan Married sebesar 12 %"
   ]
  },
  {
   "cell_type": "code",
   "execution_count": 28,
   "id": "d42236b5-3917-4afa-b5b9-e2b5423bbcc0",
   "metadata": {},
   "outputs": [
    {
     "data": {
      "image/png": "[encoded data removed]",
      "text/plain": [
       "<Figure size 1152x432 with 1 Axes>"
      ]
     },
     "metadata": {
      "needs_background": "light"
     },
     "output_type": "display_data"
    }
   ],
   "source": [
    "plt.figure(figsize=(16,6))\n",
    "ax = sns.histplot(data=df, x='Tenure', hue='Churn',kde=True, multiple='stack')\n",
    "ax.set_title('Tenure by Churn', size=14, weight='bold')\n",
    "ax.set_xlabel(None);"
   ]
  },
  {
   "cell_type": "markdown",
   "id": "b257e60a-38aa-4242-9313-3d2ff08f62da",
   "metadata": {},
   "source": [
    "Berdasarkan hasil visualisasi diatas didapatkan informasi :\n",
    "* Para pelanggan e-commerce banyak pada bulan-bulan awal dan bulan selanjutnya cenderung fluktuatif\n",
    "* Pelanggan pada bulan-bulan awal juga cenderung paling banyak melakukan Churn dibandingkan bulan-bulan selanjutnya."
   ]
  },
  {
   "cell_type": "code",
   "execution_count": 91,
   "id": "89d2e1c9-e1f9-4fa3-a520-3df787f62d69",
   "metadata": {},
   "outputs": [
    {
     "data": {
      "image/png": "[encoded data removed]",
      "text/plain": [
       "<Figure size 1152x432 with 1 Axes>"
      ]
     },
     "metadata": {
      "needs_background": "light"
     },
     "output_type": "display_data"
    }
   ],
   "source": [
    "plt.figure(figsize=(16,6))\n",
    "ax = sns.histplot(data=df, x='WarehouseToHome', hue='Churn', multiple='stack')\n",
    "ax.set_title('WarehouseToHome by Churn', size=14, weight='bold')\n",
    "ax.set_xlabel(None);"
   ]
  },
  {
   "cell_type": "markdown",
   "id": "d4cb7c8c-74ac-476c-9744-b504a42efd9b",
   "metadata": {},
   "source": [
    "Berdasarkan hasil Visualisasi diatas didapatkan informasi sebagai berikut:\n",
    "* Jarak Rumah pelanggan dengan Warehouse didominasi oleh pelanggan yang jarak warehousenya dekat dengan rumah pelanggan <20.\n",
    "* Pelanggan yang rumahnya dekat dengan warehouse juga cenderung lebih banyak Churn."
   ]
  },
  {
   "cell_type": "code",
   "execution_count": 92,
   "id": "a8c495e9-30ac-4732-a2a6-5b4f3a440072",
   "metadata": {},
   "outputs": [
    {
     "data": {
      "image/png": "[encoded data removed]",
      "text/plain": [
       "<Figure size 1152x432 with 1 Axes>"
      ]
     },
     "metadata": {
      "needs_background": "light"
     },
     "output_type": "display_data"
    }
   ],
   "source": [
    "plt.figure(figsize=(16,6))\n",
    "ax = sns.histplot(data=df, x='CashbackAmount', hue='Churn', multiple='stack')\n",
    "ax.set_title('CashbackAmount by Churn', size=14, weight='bold')\n",
    "ax.set_xlabel(None);"
   ]
  },
  {
   "cell_type": "markdown",
   "id": "2ce7d041-0f3a-4dc5-a3f1-6be3ccd24a9a",
   "metadata": {},
   "source": [
    "Berdasarkan Visualisasi diatas didapatkan informasi sebagai berikut:\n",
    "* CashbackAmount para pelanggan cenderung banyak pada 125-200$ \n",
    "* Pelanggan paling banyak mendapatkan cashback sebesar 150$  \n",
    "* Pelanggan dengan cashback terbesar justru paling banyak melakukan Churn dibandingkan dengan jumlah cashback yang lain."
   ]
  },
  {
   "cell_type": "code",
   "execution_count": 93,
   "id": "6db263ef-80f3-4569-a8a1-da1c6e6a2fad",
   "metadata": {},
   "outputs": [
    {
     "data": {
      "image/png": "[encoded data removed]",
      "text/plain": [
       "<Figure size 1152x432 with 1 Axes>"
      ]
     },
     "metadata": {
      "needs_background": "light"
     },
     "output_type": "display_data"
    }
   ],
   "source": [
    "plt.figure(figsize=(16,6))\n",
    "ax = sns.histplot(data=df, x='CouponUsed', hue='Churn', multiple='stack')\n",
    "ax.set_title('CouponUsed by Churn', size=14, weight='bold')\n",
    "ax.set_xlabel(None);"
   ]
  },
  {
   "cell_type": "markdown",
   "id": "9ee9a15e-65a4-466c-9064-e6e00625fe8a",
   "metadata": {},
   "source": [
    "Apakah Pelanggan yang melakukan Complain akan Churn?"
   ]
  },
  {
   "cell_type": "code",
   "execution_count": 33,
   "id": "51b7223b-5143-4286-94fa-84b88883c96f",
   "metadata": {},
   "outputs": [
    {
     "data": {
      "text/plain": [
       "<matplotlib.legend.Legend at 0x1de59892910>"
      ]
     },
     "execution_count": 33,
     "metadata": {},
     "output_type": "execute_result"
    },
    {
     "data": {
      "image/png": "[encoded data removed]",
      "text/plain": [
       "<Figure size 1008x432 with 1 Axes>"
      ]
     },
     "metadata": {
      "needs_background": "light"
     },
     "output_type": "display_data"
    }
   ],
   "source": [
    "plt.figure(figsize=(14,6))\n",
    "ax = plt.subplot(111)\n",
    "complain_churn = df.groupby('Complain')['Churn'].value_counts(normalize=True).unstack('Churn')\n",
    "complain_churn.plot.barh(stacked=True, ax = ax)\n",
    "plt.title('Complain by Actived vs Churned Customer', size=14, weight='bold')\n",
    "plt.yticks(ticks=[0, 1], labels=['Not Complain', 'Complain'], rotation=0)\n",
    "plt.ylabel(None)\n",
    "plt.legend(title='Customer Status', labels=['Actived', 'Churned'], loc='upper right')"
   ]
  },
  {
   "cell_type": "markdown",
   "id": "a80f4c00-9143-42c7-9edb-1ac712a80c0a",
   "metadata": {},
   "source": [
    "Berdasarkan proporsi dari perilaku pelanggan yang melakukan complain didapati informasi sebagai berikut :\n",
    "* Pelanggan yang melakukan Complain Cenderung melakukan **Churn** dengan proporsi yang lebih besar yaitu sebesar 35 % dibandingkan dengan pelanggan yang tidak melakukan complain melakukan **Churn**"
   ]
  },
  {
   "cell_type": "code",
   "execution_count": 34,
   "id": "196fcbfc-0640-47e4-9a0d-ab70c9b09b24",
   "metadata": {},
   "outputs": [
    {
     "data": {
      "text/plain": [
       "<matplotlib.legend.Legend at 0x1de59052e50>"
      ]
     },
     "execution_count": 34,
     "metadata": {},
     "output_type": "execute_result"
    },
    {
     "data": {
      "image/png": "[encoded data removed]",
      "text/plain": [
       "<Figure size 1008x432 with 1 Axes>"
      ]
     },
     "metadata": {
      "needs_background": "light"
     },
     "output_type": "display_data"
    }
   ],
   "source": [
    "plt.figure(figsize=(14,6))\n",
    "ax = plt.subplot(111)\n",
    "complain_churn = df.groupby('SatisfactionScore')['Churn'].value_counts(normalize=True).unstack('Churn')\n",
    "complain_churn.plot.barh(stacked=True, ax = ax)\n",
    "plt.title('Satisfaction by Actived vs Churned Customer', size=14, weight='bold')\n",
    "# plt.yticks(ticks=[0, 1], labels=['Not Complain', 'Complain'], rotation=0)\n",
    "plt.ylabel('Satisfaction')\n",
    "plt.legend(title='Customer Status', labels=['Actived', 'Churned'], loc='upper right')"
   ]
  },
  {
   "cell_type": "markdown",
   "id": "0a41fe39-d371-432b-a885-d1837118a3e9",
   "metadata": {},
   "source": [
    "Berdasarkan hasil visualisasi yang dilakukan didapatkan informasi sebagai berikut:\n",
    "* Pelanggan yang melakukan Churn, menariknya adalah para pelanggan yang memberikan nilai satisfaction 5 dan sebaliknya pelanggan yang memberi nilai 1 justru paling sedikit melakukan Churn. Hal ini sangat mungkin karena para pelanggan yang memberikan nilai 1 namun tetap menggunakan e-commerce. Sebaiknya Perusahaan meningkatkan lagi survey kepuasan pelanggan seperti memberikan layanan cepat terhadap kepuasan pelanggan.  Pada era digital sekarang ini, sebuah masukan atau saran untuk perusahaan bisa dilakukan lebih cepat dan ringkas melalui email ataupun melalui social media. Informasi yang diperoleh dari saran dan keluhan ini dapat dijadikan ide-ide baru dan masukkan yang berharga bagi perusahaan, sehingga perusahaan akan beraksi dengan tanggap dan cepat untuk mengatasi masalah-masalah yang ada. Selain mendapatkan kritik dan saran dari pelanggan, penanganan komplain juga bisa menjadi salah satu kepuasan pelanggan. Jika komplain diatasi dengan baik, pelanggan tentunya merasa senang dengan pelayanan dan tidak akan bosan dengan produk atau jasa yang ditawarkan."
   ]
  },
  {
   "cell_type": "markdown",
   "id": "ae31a0f5-9166-4094-9ec6-310ebbcc1226",
   "metadata": {},
   "source": [
    "## Data Cleaning"
   ]
  },
  {
   "cell_type": "markdown",
   "id": "e1c38a65-2498-49ca-bed9-bb51011f9faf",
   "metadata": {},
   "source": [
    "### Deleted Missing Value"
   ]
  },
  {
   "cell_type": "code",
   "execution_count": 35,
   "id": "8c99b537-e908-452a-bb18-d21074b5b6a2",
   "metadata": {},
   "outputs": [
    {
     "data": {
      "text/plain": [
       "CustomerID                     0.000000\n",
       "Churn                          0.000000\n",
       "Tenure                         4.689165\n",
       "PreferredLoginDevice           0.000000\n",
       "CityTier                       0.000000\n",
       "WarehouseToHome                4.458259\n",
       "PreferredPaymentMode           0.000000\n",
       "Gender                         0.000000\n",
       "HourSpendOnApp                 4.529307\n",
       "NumberOfDeviceRegistered       0.000000\n",
       "PreferedOrderCat               0.000000\n",
       "SatisfactionScore              0.000000\n",
       "MaritalStatus                  0.000000\n",
       "NumberOfAddress                0.000000\n",
       "Complain                       0.000000\n",
       "OrderAmountHikeFromlastYear    4.706927\n",
       "CouponUsed                     4.547069\n",
       "OrderCount                     4.582593\n",
       "DaySinceLastOrder              5.452931\n",
       "CashbackAmount                 0.000000\n",
       "dtype: float64"
      ]
     },
     "execution_count": 35,
     "metadata": {},
     "output_type": "execute_result"
    }
   ],
   "source": [
    "df.isna().sum()/len(df)*100"
   ]
  },
  {
   "cell_type": "markdown",
   "id": "a20cda41-4534-41ab-a9fa-2faa4b96ed85",
   "metadata": {},
   "source": [
    "missing value pada data hanya sebesar 4,5%-5,4% dari total keseluruhan data. Sehingga data-data ini akan di drop atau diabaikan untuk melanjutkan pada proses prediksi."
   ]
  },
  {
   "cell_type": "code",
   "execution_count": 36,
   "id": "7ff21520-e36b-4db1-8c07-eba446c3a608",
   "metadata": {},
   "outputs": [
    {
     "data": {
      "text/plain": [
       "CustomerID                     0\n",
       "Churn                          0\n",
       "Tenure                         0\n",
       "PreferredLoginDevice           0\n",
       "CityTier                       0\n",
       "WarehouseToHome                0\n",
       "PreferredPaymentMode           0\n",
       "Gender                         0\n",
       "HourSpendOnApp                 0\n",
       "NumberOfDeviceRegistered       0\n",
       "PreferedOrderCat               0\n",
       "SatisfactionScore              0\n",
       "MaritalStatus                  0\n",
       "NumberOfAddress                0\n",
       "Complain                       0\n",
       "OrderAmountHikeFromlastYear    0\n",
       "CouponUsed                     0\n",
       "OrderCount                     0\n",
       "DaySinceLastOrder              0\n",
       "CashbackAmount                 0\n",
       "dtype: int64"
      ]
     },
     "execution_count": 36,
     "metadata": {},
     "output_type": "execute_result"
    }
   ],
   "source": [
    "df_clean=df.dropna()\n",
    "df_clean.isna().sum()"
   ]
  },
  {
   "cell_type": "code",
   "execution_count": 37,
   "id": "b0407046-f61c-4e0d-b97d-da6f657aa253",
   "metadata": {},
   "outputs": [
    {
     "data": {
      "text/plain": [
       "0    3143\n",
       "1     631\n",
       "Name: Churn, dtype: int64"
      ]
     },
     "execution_count": 37,
     "metadata": {},
     "output_type": "execute_result"
    }
   ],
   "source": [
    "df_clean['Churn'].value_counts()"
   ]
  },
  {
   "cell_type": "markdown",
   "id": "f920cf38-24f7-4c5f-8f86-aac385824b98",
   "metadata": {},
   "source": [
    "### Data Outliers Drop"
   ]
  },
  {
   "cell_type": "code",
   "execution_count": 38,
   "id": "65cd2856-470f-4ece-b0b0-84624c5a2be0",
   "metadata": {},
   "outputs": [
    {
     "data": {
      "image/png": "[encoded data removed]",
      "text/plain": [
       "<Figure size 1080x648 with 15 Axes>"
      ]
     },
     "metadata": {},
     "output_type": "display_data"
    }
   ],
   "source": [
    "num_feature = [fea for fea in df.describe().columns]\n",
    "num_feature\n",
    "\n",
    "plt.figure(figsize=(15, 9), facecolor='white')\n",
    "plotnumber = 1\n",
    "    \n",
    "for feature in num_feature:\n",
    "    ax = plt.subplot(4,4, plotnumber)\n",
    "    sns.boxplot(x=feature, data=df);\n",
    "    plt.title(feature, fontsize=12)\n",
    "    plt.xlabel(None)\n",
    "    plt.tight_layout()\n",
    "    plotnumber += 1"
   ]
  },
  {
   "cell_type": "code",
   "execution_count": 39,
   "id": "a5c7ad8c-8944-4611-ab18-fee9237c684f",
   "metadata": {},
   "outputs": [],
   "source": [
    "def outlier(data):\n",
    "    Q1=data.quantile(0.25)\n",
    "    Q3=data.quantile(0.75)\n",
    "    IQR=Q3-Q1\n",
    "    LIMIT=IQR*1.5\n",
    "    print(f'IQR: {IQR}')\n",
    "    upper=Q3+LIMIT\n",
    "    lower=Q1-LIMIT\n",
    "    print(f'Upper Limit: {upper}')\n",
    "    print(f'Lower Limit: {lower}')"
   ]
  },
  {
   "cell_type": "code",
   "execution_count": 40,
   "id": "5d9e1d13-3677-406c-b70a-37f57f6d458d",
   "metadata": {},
   "outputs": [],
   "source": [
    "outliers=['Tenure', 'WarehouseToHome', 'HourSpendOnApp',\n",
    "          'NumberOfDeviceRegistered', 'NumberOfAddress', 'OrderAmountHikeFromlastYear',\n",
    "          'CouponUsed', 'OrderCount','DaySinceLastOrder', 'CashbackAmount']"
   ]
  },
  {
   "cell_type": "code",
   "execution_count": 41,
   "id": "68f3581d-6a90-4cdf-b99b-3089653e7588",
   "metadata": {},
   "outputs": [
    {
     "name": "stdout",
     "output_type": "stream",
     "text": [
      "Tenure\n",
      "IQR: 14.0\n",
      "Upper Limit: 37.0\n",
      "Lower Limit: -19.0\n",
      "\n",
      "WarehouseToHome\n",
      "IQR: 11.0\n",
      "Upper Limit: 36.5\n",
      "Lower Limit: -7.5\n",
      "\n",
      "HourSpendOnApp\n",
      "IQR: 1.0\n",
      "Upper Limit: 4.5\n",
      "Lower Limit: 0.5\n",
      "\n",
      "NumberOfDeviceRegistered\n",
      "IQR: 1.0\n",
      "Upper Limit: 5.5\n",
      "Lower Limit: 1.5\n",
      "\n",
      "NumberOfAddress\n",
      "IQR: 4.0\n",
      "Upper Limit: 12.0\n",
      "Lower Limit: -4.0\n",
      "\n",
      "OrderAmountHikeFromlastYear\n",
      "IQR: 5.0\n",
      "Upper Limit: 25.5\n",
      "Lower Limit: 5.5\n",
      "\n",
      "CouponUsed\n",
      "IQR: 1.0\n",
      "Upper Limit: 3.5\n",
      "Lower Limit: -0.5\n",
      "\n",
      "OrderCount\n",
      "IQR: 2.0\n",
      "Upper Limit: 6.0\n",
      "Lower Limit: -2.0\n",
      "\n",
      "DaySinceLastOrder\n",
      "IQR: 5.0\n",
      "Upper Limit: 14.5\n",
      "Lower Limit: -5.5\n",
      "\n",
      "CashbackAmount\n",
      "IQR: 50.6225\n",
      "Upper Limit: 272.32625\n",
      "Lower Limit: 69.83625\n",
      "\n"
     ]
    }
   ],
   "source": [
    "list_outlier=[]\n",
    "for i in outliers:\n",
    "    list_outlier.append([print(i),\n",
    "    outlier(df[i]),\n",
    "    print()])"
   ]
  },
  {
   "cell_type": "code",
   "execution_count": 42,
   "id": "c984ca6a-4c2f-4624-972e-5da5ba9deee8",
   "metadata": {},
   "outputs": [],
   "source": [
    "# Drop Outliers\n",
    "# df = df[(df['WarehouseToHome']<120)]"
   ]
  },
  {
   "cell_type": "code",
   "execution_count": 43,
   "id": "0825de72-8b27-4380-a104-ba32e95f7503",
   "metadata": {},
   "outputs": [
    {
     "data": {
      "text/plain": [
       "0    4682\n",
       "1     948\n",
       "Name: Churn, dtype: int64"
      ]
     },
     "execution_count": 43,
     "metadata": {},
     "output_type": "execute_result"
    }
   ],
   "source": [
    "df['Churn'].value_counts()"
   ]
  },
  {
   "cell_type": "code",
   "execution_count": 44,
   "id": "6d393878-02d1-48b3-99e1-f18ab9a1f753",
   "metadata": {},
   "outputs": [
    {
     "data": {
      "text/plain": [
       "CustomerID                     0\n",
       "Churn                          0\n",
       "Tenure                         0\n",
       "PreferredLoginDevice           0\n",
       "CityTier                       0\n",
       "WarehouseToHome                0\n",
       "PreferredPaymentMode           0\n",
       "Gender                         0\n",
       "HourSpendOnApp                 0\n",
       "NumberOfDeviceRegistered       0\n",
       "PreferedOrderCat               0\n",
       "SatisfactionScore              0\n",
       "MaritalStatus                  0\n",
       "NumberOfAddress                0\n",
       "Complain                       0\n",
       "OrderAmountHikeFromlastYear    0\n",
       "CouponUsed                     0\n",
       "OrderCount                     0\n",
       "DaySinceLastOrder              0\n",
       "CashbackAmount                 0\n",
       "dtype: int64"
      ]
     },
     "execution_count": 44,
     "metadata": {},
     "output_type": "execute_result"
    }
   ],
   "source": [
    "df.isna().sum()\n",
    "df=df.dropna()\n",
    "df.isna().sum()"
   ]
  },
  {
   "cell_type": "code",
   "execution_count": 45,
   "id": "b8701f72-4a7d-464f-ac9f-4eabe4ef358c",
   "metadata": {},
   "outputs": [
    {
     "data": {
      "text/plain": [
       "0    3143\n",
       "1     631\n",
       "Name: Churn, dtype: int64"
      ]
     },
     "execution_count": 45,
     "metadata": {},
     "output_type": "execute_result"
    }
   ],
   "source": [
    "df['Churn'].value_counts()"
   ]
  },
  {
   "cell_type": "code",
   "execution_count": 46,
   "id": "6595e1f9-5b31-4fe0-8fe4-58b22af02ae3",
   "metadata": {},
   "outputs": [
    {
     "data": {
      "text/html": [
       "<div>\n",
       "<style scoped>\n",
       "    .dataframe tbody tr th:only-of-type {\n",
       "        vertical-align: middle;\n",
       "    }\n",
       "\n",
       "    .dataframe tbody tr th {\n",
       "        vertical-align: top;\n",
       "    }\n",
       "\n",
       "    .dataframe thead th {\n",
       "        text-align: right;\n",
       "    }\n",
       "</style>\n",
       "<table border=\"1\" class=\"dataframe\">\n",
       "  <thead>\n",
       "    <tr style=\"text-align: right;\">\n",
       "      <th></th>\n",
       "      <th>CustomerID</th>\n",
       "      <th>Churn</th>\n",
       "      <th>Tenure</th>\n",
       "      <th>PreferredLoginDevice</th>\n",
       "      <th>CityTier</th>\n",
       "      <th>WarehouseToHome</th>\n",
       "      <th>PreferredPaymentMode</th>\n",
       "      <th>Gender</th>\n",
       "      <th>HourSpendOnApp</th>\n",
       "      <th>NumberOfDeviceRegistered</th>\n",
       "      <th>PreferedOrderCat</th>\n",
       "      <th>SatisfactionScore</th>\n",
       "      <th>MaritalStatus</th>\n",
       "      <th>NumberOfAddress</th>\n",
       "      <th>Complain</th>\n",
       "      <th>OrderAmountHikeFromlastYear</th>\n",
       "      <th>CouponUsed</th>\n",
       "      <th>OrderCount</th>\n",
       "      <th>DaySinceLastOrder</th>\n",
       "      <th>CashbackAmount</th>\n",
       "    </tr>\n",
       "  </thead>\n",
       "  <tbody>\n",
       "    <tr>\n",
       "      <th>0</th>\n",
       "      <td>50001</td>\n",
       "      <td>1</td>\n",
       "      <td>4.0</td>\n",
       "      <td>Mobile Phone</td>\n",
       "      <td>3</td>\n",
       "      <td>6.0</td>\n",
       "      <td>Debit Card</td>\n",
       "      <td>Female</td>\n",
       "      <td>3.0</td>\n",
       "      <td>3</td>\n",
       "      <td>Laptop &amp; Accessory</td>\n",
       "      <td>2</td>\n",
       "      <td>Single</td>\n",
       "      <td>9</td>\n",
       "      <td>1</td>\n",
       "      <td>11.0</td>\n",
       "      <td>1.0</td>\n",
       "      <td>1.0</td>\n",
       "      <td>5.0</td>\n",
       "      <td>159.93</td>\n",
       "    </tr>\n",
       "    <tr>\n",
       "      <th>3</th>\n",
       "      <td>50004</td>\n",
       "      <td>1</td>\n",
       "      <td>0.0</td>\n",
       "      <td>Mobile Phone</td>\n",
       "      <td>3</td>\n",
       "      <td>15.0</td>\n",
       "      <td>Debit Card</td>\n",
       "      <td>Male</td>\n",
       "      <td>2.0</td>\n",
       "      <td>4</td>\n",
       "      <td>Laptop &amp; Accessory</td>\n",
       "      <td>5</td>\n",
       "      <td>Single</td>\n",
       "      <td>8</td>\n",
       "      <td>0</td>\n",
       "      <td>23.0</td>\n",
       "      <td>0.0</td>\n",
       "      <td>1.0</td>\n",
       "      <td>3.0</td>\n",
       "      <td>134.07</td>\n",
       "    </tr>\n",
       "    <tr>\n",
       "      <th>5</th>\n",
       "      <td>50006</td>\n",
       "      <td>1</td>\n",
       "      <td>0.0</td>\n",
       "      <td>Computer</td>\n",
       "      <td>1</td>\n",
       "      <td>22.0</td>\n",
       "      <td>Debit Card</td>\n",
       "      <td>Female</td>\n",
       "      <td>3.0</td>\n",
       "      <td>5</td>\n",
       "      <td>Mobile Phone</td>\n",
       "      <td>5</td>\n",
       "      <td>Single</td>\n",
       "      <td>2</td>\n",
       "      <td>1</td>\n",
       "      <td>22.0</td>\n",
       "      <td>4.0</td>\n",
       "      <td>6.0</td>\n",
       "      <td>7.0</td>\n",
       "      <td>139.19</td>\n",
       "    </tr>\n",
       "    <tr>\n",
       "      <th>11</th>\n",
       "      <td>50012</td>\n",
       "      <td>1</td>\n",
       "      <td>11.0</td>\n",
       "      <td>Mobile Phone</td>\n",
       "      <td>1</td>\n",
       "      <td>6.0</td>\n",
       "      <td>Debit Card</td>\n",
       "      <td>Male</td>\n",
       "      <td>3.0</td>\n",
       "      <td>4</td>\n",
       "      <td>Fashion</td>\n",
       "      <td>3</td>\n",
       "      <td>Single</td>\n",
       "      <td>10</td>\n",
       "      <td>1</td>\n",
       "      <td>13.0</td>\n",
       "      <td>0.0</td>\n",
       "      <td>1.0</td>\n",
       "      <td>0.0</td>\n",
       "      <td>153.81</td>\n",
       "    </tr>\n",
       "    <tr>\n",
       "      <th>12</th>\n",
       "      <td>50013</td>\n",
       "      <td>1</td>\n",
       "      <td>0.0</td>\n",
       "      <td>Mobile Phone</td>\n",
       "      <td>1</td>\n",
       "      <td>11.0</td>\n",
       "      <td>Cash on Delivery</td>\n",
       "      <td>Male</td>\n",
       "      <td>2.0</td>\n",
       "      <td>3</td>\n",
       "      <td>Mobile Phone</td>\n",
       "      <td>3</td>\n",
       "      <td>Single</td>\n",
       "      <td>2</td>\n",
       "      <td>1</td>\n",
       "      <td>13.0</td>\n",
       "      <td>2.0</td>\n",
       "      <td>2.0</td>\n",
       "      <td>2.0</td>\n",
       "      <td>134.41</td>\n",
       "    </tr>\n",
       "  </tbody>\n",
       "</table>\n",
       "</div>"
      ],
      "text/plain": [
       "    CustomerID  Churn  Tenure PreferredLoginDevice  CityTier  WarehouseToHome  \\\n",
       "0        50001      1     4.0         Mobile Phone         3              6.0   \n",
       "3        50004      1     0.0         Mobile Phone         3             15.0   \n",
       "5        50006      1     0.0             Computer         1             22.0   \n",
       "11       50012      1    11.0         Mobile Phone         1              6.0   \n",
       "12       50013      1     0.0         Mobile Phone         1             11.0   \n",
       "\n",
       "   PreferredPaymentMode  Gender  HourSpendOnApp  NumberOfDeviceRegistered  \\\n",
       "0            Debit Card  Female             3.0                         3   \n",
       "3            Debit Card    Male             2.0                         4   \n",
       "5            Debit Card  Female             3.0                         5   \n",
       "11           Debit Card    Male             3.0                         4   \n",
       "12     Cash on Delivery    Male             2.0                         3   \n",
       "\n",
       "      PreferedOrderCat  SatisfactionScore MaritalStatus  NumberOfAddress  \\\n",
       "0   Laptop & Accessory                  2        Single                9   \n",
       "3   Laptop & Accessory                  5        Single                8   \n",
       "5         Mobile Phone                  5        Single                2   \n",
       "11             Fashion                  3        Single               10   \n",
       "12        Mobile Phone                  3        Single                2   \n",
       "\n",
       "    Complain  OrderAmountHikeFromlastYear  CouponUsed  OrderCount  \\\n",
       "0          1                         11.0         1.0         1.0   \n",
       "3          0                         23.0         0.0         1.0   \n",
       "5          1                         22.0         4.0         6.0   \n",
       "11         1                         13.0         0.0         1.0   \n",
       "12         1                         13.0         2.0         2.0   \n",
       "\n",
       "    DaySinceLastOrder  CashbackAmount  \n",
       "0                 5.0          159.93  \n",
       "3                 3.0          134.07  \n",
       "5                 7.0          139.19  \n",
       "11                0.0          153.81  \n",
       "12                2.0          134.41  "
      ]
     },
     "execution_count": 46,
     "metadata": {},
     "output_type": "execute_result"
    }
   ],
   "source": [
    "df.head()"
   ]
  },
  {
   "cell_type": "code",
   "execution_count": 47,
   "id": "fa55c79f-8498-4cc8-9e49-494fdaa20b31",
   "metadata": {},
   "outputs": [
    {
     "name": "stdout",
     "output_type": "stream",
     "text": [
      "<class 'pandas.core.frame.DataFrame'>\n",
      "Int64Index: 3774 entries, 0 to 5629\n",
      "Data columns (total 20 columns):\n",
      " #   Column                       Non-Null Count  Dtype  \n",
      "---  ------                       --------------  -----  \n",
      " 0   CustomerID                   3774 non-null   int64  \n",
      " 1   Churn                        3774 non-null   int64  \n",
      " 2   Tenure                       3774 non-null   float64\n",
      " 3   PreferredLoginDevice         3774 non-null   object \n",
      " 4   CityTier                     3774 non-null   int64  \n",
      " 5   WarehouseToHome              3774 non-null   float64\n",
      " 6   PreferredPaymentMode         3774 non-null   object \n",
      " 7   Gender                       3774 non-null   object \n",
      " 8   HourSpendOnApp               3774 non-null   float64\n",
      " 9   NumberOfDeviceRegistered     3774 non-null   int64  \n",
      " 10  PreferedOrderCat             3774 non-null   object \n",
      " 11  SatisfactionScore            3774 non-null   int64  \n",
      " 12  MaritalStatus                3774 non-null   object \n",
      " 13  NumberOfAddress              3774 non-null   int64  \n",
      " 14  Complain                     3774 non-null   int64  \n",
      " 15  OrderAmountHikeFromlastYear  3774 non-null   float64\n",
      " 16  CouponUsed                   3774 non-null   float64\n",
      " 17  OrderCount                   3774 non-null   float64\n",
      " 18  DaySinceLastOrder            3774 non-null   float64\n",
      " 19  CashbackAmount               3774 non-null   float64\n",
      "dtypes: float64(8), int64(7), object(5)\n",
      "memory usage: 619.2+ KB\n"
     ]
    }
   ],
   "source": [
    "df.info()"
   ]
  },
  {
   "cell_type": "markdown",
   "id": "5244dd3e-b983-41a2-9bdc-00e65182c0c3",
   "metadata": {},
   "source": [
    "## Data Preprocessing"
   ]
  },
  {
   "cell_type": "markdown",
   "id": "c609fe32-c70b-4cba-92f0-91f00b056181",
   "metadata": {},
   "source": [
    "Feature = CustomerID, Tenure, PreferredLoginDevice, CityTier, WarehouseToHome, PreferredPaymentMode, Gender, HourSpendOnApp, NumberOfDeviceRegistered, PreferedOrderCat, SatisfactionScore, MaritalStatus, NumberOfAddress, Complain, OrderAmountHikeFromlastYear, CouponUsed, OrderCount, DaySinceLastOrder, CashbackAmount <br>\n",
    "Target= Churn"
   ]
  },
  {
   "cell_type": "code",
   "execution_count": 48,
   "id": "de951223-0e05-4de4-a36c-a8c04c3af2ac",
   "metadata": {},
   "outputs": [
    {
     "data": {
      "text/plain": [
       "0    3143\n",
       "1     631\n",
       "Name: Churn, dtype: int64"
      ]
     },
     "execution_count": 48,
     "metadata": {},
     "output_type": "execute_result"
    }
   ],
   "source": [
    "df_churn=df.copy()\n",
    "df_churn['Churn'].value_counts()"
   ]
  },
  {
   "cell_type": "code",
   "execution_count": 49,
   "id": "8724960a-7773-4d36-b81f-ad5bf3d575aa",
   "metadata": {},
   "outputs": [],
   "source": [
    "x=df_churn.drop(columns='Churn')\n",
    "y=df_churn['Churn']"
   ]
  },
  {
   "cell_type": "markdown",
   "id": "b8a581a7-a008-42cc-88fd-938e4a0a853a",
   "metadata": {},
   "source": [
    "## Scaling\n",
    "\n",
    "Pada permodelan machine learning akan dicoba menggunakan algoritma *Logistic Regression* dan *KNN* maka akan dilakukan scalling pada data kita. permodelan diharapkan memiliki skala yang sama sehingga akan maksimal dalam target. jika tidak dilakukan scaling maka variabel dengan skala besar akan mendominasi yang kecil. Pada data numerikal juga tidak memiliki outlier (**Tenure, WarehouseToHome dan lain-lain**) sehingga dapat digunakan MinMaxScaler()."
   ]
  },
  {
   "cell_type": "code",
   "execution_count": 50,
   "id": "0ba8c750-d83b-4951-b956-af7a6a78eebd",
   "metadata": {},
   "outputs": [],
   "source": [
    "scaler = MinMaxScaler()"
   ]
  },
  {
   "cell_type": "markdown",
   "id": "797a73b0-1933-449e-9937-50737d54a72a",
   "metadata": {},
   "source": [
    "## Resampling\n",
    "\n",
    "Karena Data yang kita miliki tidak seimbang untuk mengatasinya sehingga kita akan menggunakan metode resampling agar data memiliki distribusi kelas yang lebih seimbang.\n",
    "\n",
    "Akan dilakukan Ujicoba Oversampling dan UnderSampling dan akan dilihat parameter mana yang lebih maksimal dalam permodelan kita. Dimana pada oversampling kita akan menggunakan : <br>\n",
    "SMOTE()\n",
    "\n",
    "Dan pada data Undersampling :<br>\n",
    "Nearmiss()\n"
   ]
  },
  {
   "cell_type": "code",
   "execution_count": 51,
   "id": "75459a86-e9e4-41af-bff1-70ac59e47b66",
   "metadata": {},
   "outputs": [],
   "source": [
    "#Digunakan untuk oversampling\n",
    "resample = SMOTE() \n",
    "\n",
    "#Digunakan untuk undersampling\n",
    "rus=NearMiss()\n"
   ]
  },
  {
   "cell_type": "markdown",
   "id": "4c9def14-ddb7-47c3-a4e0-ee116f6b1935",
   "metadata": {},
   "source": [
    "## Data Splitting\n",
    "\n",
    "pada permodelan digunakan train size = 0.7 sehingga data training kita adalah sebesar 70% dari dataset. kemudian karena menggunakan klasifikasi untuk memprediksi data yang sifatnya kategorik, kita menggunakan stratify =y agar proporsi y_train dan y_test sama."
   ]
  },
  {
   "cell_type": "code",
   "execution_count": 52,
   "id": "f7d91691-31a4-4438-b5f0-e9e6494d6073",
   "metadata": {},
   "outputs": [],
   "source": [
    "x_train, x_test, y_train, y_test = train_test_split(x, y, stratify=y, train_size =0.8, random_state=42)\n"
   ]
  },
  {
   "cell_type": "markdown",
   "id": "985bae23-3854-4663-817d-9c627d1b3e27",
   "metadata": {},
   "source": [
    "## Data Transformer (Encoding)\n",
    "\n",
    "1. Mengubah feature **PrefferdLoginDevice,PreferredPaymentMode,'Gender', 'PreferredOrderCat', 'MaritalStatus'** karena fitur ini jumlah unique nya hanya sedikit dan tidak memiliki kelas/urutan(ordinal) sehingga kita encode menggunakan **One Hot Encoding**.\n"
   ]
  },
  {
   "cell_type": "code",
   "execution_count": 53,
   "id": "cc88b360-bf12-4e87-af31-7e7182171dd5",
   "metadata": {},
   "outputs": [],
   "source": [
    "transformer=ColumnTransformer([\n",
    "    ('one hot',OneHotEncoder(drop='first'),['PreferredLoginDevice','PreferredPaymentMode',\n",
    "                                            'Gender', 'PreferedOrderCat', 'MaritalStatus']),\n",
    "],remainder='passthrough')"
   ]
  },
  {
   "cell_type": "code",
   "execution_count": 54,
   "id": "ebb0e874-8fbd-4917-9589-de385c5cbaca",
   "metadata": {},
   "outputs": [],
   "source": [
    "from sklearn.linear_model import LogisticRegression\n",
    "from sklearn.tree import DecisionTreeClassifier\n",
    "from sklearn.neighbors import KNeighborsClassifier\n",
    "from sklearn.ensemble import RandomForestClassifier,AdaBoostClassifier,GradientBoostingClassifier\n",
    "from xgboost.sklearn import XGBClassifier\n",
    "from sklearn.model_selection import StratifiedKFold,cross_val_score,GridSearchCV\n",
    "from sklearn.metrics import accuracy_score, recall_score, precision_score, f1_score, confusion_matrix, classification_report, plot_confusion_matrix, roc_auc_score\n",
    "from imblearn.pipeline import Pipeline\n",
    "from sklearn.metrics import classification_report"
   ]
  },
  {
   "cell_type": "code",
   "execution_count": 55,
   "id": "6a84f0a9-02db-40cc-b636-8970f7daafd1",
   "metadata": {},
   "outputs": [],
   "source": [
    "# Model\n",
    "logreg=LogisticRegression(random_state=42)\n",
    "knn=KNeighborsClassifier(n_neighbors=62)\n",
    "tree=DecisionTreeClassifier(random_state=42,max_depth=3)\n",
    "rf = RandomForestClassifier(random_state=42,max_depth=3)\n",
    "ada=AdaBoostClassifier(tree,learning_rate=0.1,random_state=42)\n",
    "gbc=GradientBoostingClassifier(learning_rate=0.1,random_state=42,max_depth=3)\n",
    "xgb = XGBClassifier(learning_rate=0.1,random_state=42,max_depth=3)\n"
   ]
  },
  {
   "cell_type": "code",
   "execution_count": 56,
   "id": "b2f41ab5-78cb-4968-ad40-1e73e0ae77ef",
   "metadata": {},
   "outputs": [],
   "source": [
    "skfold= StratifiedKFold(n_splits = 5)"
   ]
  },
  {
   "cell_type": "code",
   "execution_count": 57,
   "id": "69424070-98bf-44c5-b7c6-ec184bb60e9e",
   "metadata": {},
   "outputs": [],
   "source": [
    "models = [logreg, knn, tree, rf, ada, gbc, xgb]\n",
    "\n",
    "mean_with_sampling = []\n",
    "std_with_sampling = []\n",
    "mean_without_sampling = []\n",
    "std_without_sampling = []\n",
    "\n",
    "mean_with_undersampling=[]\n",
    "std_with_undersampling=[]\n",
    "\n",
    "for model in  models :\n",
    "\n",
    "    # modeling with oversampling\n",
    "    pipe_model_with_sampling = Pipeline([\n",
    "        ('prep', transformer),\n",
    "        ('scaler', scaler),\n",
    "        ('resample', resample),\n",
    "        ('model', model)\n",
    "    ])\n",
    "\n",
    "    model_cv_with_sampling = cross_val_score(\n",
    "        estimator = pipe_model_with_sampling,\n",
    "        X = x_train,\n",
    "        y = y_train,\n",
    "        cv = skfold,\n",
    "        scoring = 'f1',\n",
    "        n_jobs = -1\n",
    "    )\n",
    "    mean_with_sampling.append(model_cv_with_sampling.mean())\n",
    "    std_with_sampling.append(model_cv_with_sampling.std())\n",
    "\n",
    "        # modeling without resampling\n",
    "\n",
    "    pipe_model_without_sampling = Pipeline([\n",
    "        ('prep', transformer),\n",
    "        ('scaler', scaler),\n",
    "        ('model', model)\n",
    "    ])\n",
    "\n",
    "    model_cv_without_sampling = cross_val_score(\n",
    "        estimator = pipe_model_without_sampling,\n",
    "        X = x_train,\n",
    "        y = y_train,\n",
    "        cv = skfold,\n",
    "        scoring = 'f1',\n",
    "        n_jobs = -1\n",
    "    )\n",
    "    \n",
    "    mean_without_sampling.append(model_cv_without_sampling.mean())\n",
    "    std_without_sampling.append(model_cv_without_sampling.std())\n",
    "    \n",
    "    # modeling with undersampling\n",
    "    pipe_model_with_undersampling = Pipeline([\n",
    "        ('prep', transformer),\n",
    "        ('scaler', scaler),\n",
    "        ('resample', rus),\n",
    "        ('model', model)\n",
    "    ])\n",
    "\n",
    "    model_cv_with_undersampling = cross_val_score(\n",
    "        estimator = pipe_model_with_undersampling,\n",
    "        X = x_train,\n",
    "        y = y_train,\n",
    "        cv = skfold,\n",
    "        scoring = 'f1',\n",
    "        n_jobs = -1\n",
    "    )\n",
    "    mean_with_undersampling.append(model_cv_with_undersampling.mean())\n",
    "    std_with_undersampling.append(model_cv_with_undersampling.std())\n",
    "    \n"
   ]
  },
  {
   "cell_type": "code",
   "execution_count": 58,
   "id": "f9cc1aca-1942-4545-937a-7bbb83272068",
   "metadata": {},
   "outputs": [
    {
     "data": {
      "text/html": [
       "<div>\n",
       "<style scoped>\n",
       "    .dataframe tbody tr th:only-of-type {\n",
       "        vertical-align: middle;\n",
       "    }\n",
       "\n",
       "    .dataframe tbody tr th {\n",
       "        vertical-align: top;\n",
       "    }\n",
       "\n",
       "    .dataframe thead th {\n",
       "        text-align: right;\n",
       "    }\n",
       "</style>\n",
       "<table border=\"1\" class=\"dataframe\">\n",
       "  <thead>\n",
       "    <tr style=\"text-align: right;\">\n",
       "      <th></th>\n",
       "      <th>model</th>\n",
       "      <th>mean_f1_with_SMOTE</th>\n",
       "      <th>mean_f1_without_sampling</th>\n",
       "      <th>mean_f1_with_NearMiss:</th>\n",
       "      <th>std_f1_with_SMOTE</th>\n",
       "      <th>std_f1_without_sampling</th>\n",
       "      <th>std_f1_with_NearMiss</th>\n",
       "    </tr>\n",
       "  </thead>\n",
       "  <tbody>\n",
       "    <tr>\n",
       "      <th>4</th>\n",
       "      <td>AdaBoost</td>\n",
       "      <td>0.737737</td>\n",
       "      <td>0.715046</td>\n",
       "      <td>0.572461</td>\n",
       "      <td>0.003734</td>\n",
       "      <td>0.019576</td>\n",
       "      <td>0.032168</td>\n",
       "    </tr>\n",
       "    <tr>\n",
       "      <th>6</th>\n",
       "      <td>XGBoost</td>\n",
       "      <td>0.730838</td>\n",
       "      <td>0.735997</td>\n",
       "      <td>0.604049</td>\n",
       "      <td>0.014941</td>\n",
       "      <td>0.016807</td>\n",
       "      <td>0.010665</td>\n",
       "    </tr>\n",
       "    <tr>\n",
       "      <th>5</th>\n",
       "      <td>GradienBoost</td>\n",
       "      <td>0.730819</td>\n",
       "      <td>0.753558</td>\n",
       "      <td>0.614555</td>\n",
       "      <td>0.006126</td>\n",
       "      <td>0.027866</td>\n",
       "      <td>0.012899</td>\n",
       "    </tr>\n",
       "    <tr>\n",
       "      <th>3</th>\n",
       "      <td>Random Forest</td>\n",
       "      <td>0.638604</td>\n",
       "      <td>0.211105</td>\n",
       "      <td>0.625705</td>\n",
       "      <td>0.013429</td>\n",
       "      <td>0.047874</td>\n",
       "      <td>0.007022</td>\n",
       "    </tr>\n",
       "    <tr>\n",
       "      <th>0</th>\n",
       "      <td>Logistic Regression</td>\n",
       "      <td>0.576159</td>\n",
       "      <td>0.586656</td>\n",
       "      <td>0.490496</td>\n",
       "      <td>0.010325</td>\n",
       "      <td>0.025669</td>\n",
       "      <td>0.034257</td>\n",
       "    </tr>\n",
       "    <tr>\n",
       "      <th>2</th>\n",
       "      <td>Decision Tree</td>\n",
       "      <td>0.556686</td>\n",
       "      <td>0.631975</td>\n",
       "      <td>0.569085</td>\n",
       "      <td>0.017186</td>\n",
       "      <td>0.021366</td>\n",
       "      <td>0.019984</td>\n",
       "    </tr>\n",
       "    <tr>\n",
       "      <th>1</th>\n",
       "      <td>KNN</td>\n",
       "      <td>0.458494</td>\n",
       "      <td>0.109949</td>\n",
       "      <td>0.378104</td>\n",
       "      <td>0.031990</td>\n",
       "      <td>0.042898</td>\n",
       "      <td>0.020668</td>\n",
       "    </tr>\n",
       "  </tbody>\n",
       "</table>\n",
       "</div>"
      ],
      "text/plain": [
       "                 model  mean_f1_with_SMOTE  mean_f1_without_sampling  \\\n",
       "4             AdaBoost            0.737737                  0.715046   \n",
       "6              XGBoost            0.730838                  0.735997   \n",
       "5         GradienBoost            0.730819                  0.753558   \n",
       "3        Random Forest            0.638604                  0.211105   \n",
       "0  Logistic Regression            0.576159                  0.586656   \n",
       "2        Decision Tree            0.556686                  0.631975   \n",
       "1                  KNN            0.458494                  0.109949   \n",
       "\n",
       "   mean_f1_with_NearMiss:  std_f1_with_SMOTE  std_f1_without_sampling  \\\n",
       "4                0.572461           0.003734                 0.019576   \n",
       "6                0.604049           0.014941                 0.016807   \n",
       "5                0.614555           0.006126                 0.027866   \n",
       "3                0.625705           0.013429                 0.047874   \n",
       "0                0.490496           0.010325                 0.025669   \n",
       "2                0.569085           0.017186                 0.021366   \n",
       "1                0.378104           0.031990                 0.042898   \n",
       "\n",
       "   std_f1_with_NearMiss  \n",
       "4              0.032168  \n",
       "6              0.010665  \n",
       "5              0.012899  \n",
       "3              0.007022  \n",
       "0              0.034257  \n",
       "2              0.019984  \n",
       "1              0.020668  "
      ]
     },
     "execution_count": 58,
     "metadata": {},
     "output_type": "execute_result"
    }
   ],
   "source": [
    "pd.DataFrame({\n",
    "    'model' : ['Logistic Regression', 'KNN', 'Decision Tree', 'Random Forest', 'AdaBoost', 'GradienBoost', 'XGBoost'],\n",
    "    'mean_f1_with_SMOTE' : mean_with_sampling,\n",
    "    'mean_f1_without_sampling' : mean_without_sampling,\n",
    "    'mean_f1_with_NearMiss:' : mean_with_undersampling,\n",
    "    'std_f1_with_SMOTE' : std_with_sampling,\n",
    "    'std_f1_without_sampling' : std_without_sampling,\n",
    "    'std_f1_with_NearMiss': std_with_undersampling,\n",
    "    \n",
    "\n",
    "}).sort_values('mean_f1_with_SMOTE', ascending=False)"
   ]
  },
  {
   "cell_type": "code",
   "execution_count": 59,
   "id": "8a0bf2d5-a7d2-4ead-9e8a-7aa28c7c86a8",
   "metadata": {},
   "outputs": [],
   "source": [
    "from sklearn.metrics import classification_report,confusion_matrix"
   ]
  },
  {
   "cell_type": "code",
   "execution_count": 60,
   "id": "3cc767e2-d108-4784-aebc-b1fc7a214ae2",
   "metadata": {},
   "outputs": [],
   "source": [
    "models = [logreg, knn, tree, rf, ada, gbc, xgb]\n",
    "score_f1_test = []\n",
    "score_f1_train = []\n",
    "\n",
    "def y_pred_function(model):\n",
    "    estimator = Pipeline([\n",
    "        ('prep', transformer),\n",
    "        ('scaler', scaler),\n",
    "        ('resample', resample),\n",
    "        ('model', model)\n",
    "    ])\n",
    "    \n",
    "    estimator.fit(x_train,y_train)\n",
    "    return estimator\n",
    "\n",
    "for model in models:\n",
    "    estimator = y_pred_function(model)\n",
    "    y_pred_test = estimator.predict(x_test)\n",
    "    y_pred_train = estimator.predict(x_train)\n",
    "    score_f1_test.append(f1_score(y_test,y_pred_test))\n",
    "    score_f1_train.append(f1_score(y_train,y_pred_train))\n",
    "    \n",
    "\n"
   ]
  },
  {
   "cell_type": "code",
   "execution_count": 61,
   "id": "c89b879f-48bb-41be-aa7c-b86e98aeaccc",
   "metadata": {},
   "outputs": [
    {
     "data": {
      "text/html": [
       "<div>\n",
       "<style scoped>\n",
       "    .dataframe tbody tr th:only-of-type {\n",
       "        vertical-align: middle;\n",
       "    }\n",
       "\n",
       "    .dataframe tbody tr th {\n",
       "        vertical-align: top;\n",
       "    }\n",
       "\n",
       "    .dataframe thead th {\n",
       "        text-align: right;\n",
       "    }\n",
       "</style>\n",
       "<table border=\"1\" class=\"dataframe\">\n",
       "  <thead>\n",
       "    <tr style=\"text-align: right;\">\n",
       "      <th></th>\n",
       "      <th>f1 score (train set)</th>\n",
       "      <th>f1 score (validation set)</th>\n",
       "      <th>f1 score (test set)</th>\n",
       "    </tr>\n",
       "    <tr>\n",
       "      <th>model</th>\n",
       "      <th></th>\n",
       "      <th></th>\n",
       "      <th></th>\n",
       "    </tr>\n",
       "  </thead>\n",
       "  <tbody>\n",
       "    <tr>\n",
       "      <th>GradienBoost</th>\n",
       "      <td>0.802348</td>\n",
       "      <td>0.730819</td>\n",
       "      <td>0.693878</td>\n",
       "    </tr>\n",
       "    <tr>\n",
       "      <th>AdaBoost</th>\n",
       "      <td>0.804757</td>\n",
       "      <td>0.737737</td>\n",
       "      <td>0.683544</td>\n",
       "    </tr>\n",
       "    <tr>\n",
       "      <th>XGBoost</th>\n",
       "      <td>0.803134</td>\n",
       "      <td>0.730838</td>\n",
       "      <td>0.666667</td>\n",
       "    </tr>\n",
       "    <tr>\n",
       "      <th>Random Forest</th>\n",
       "      <td>0.648395</td>\n",
       "      <td>0.638604</td>\n",
       "      <td>0.626667</td>\n",
       "    </tr>\n",
       "    <tr>\n",
       "      <th>Logistic Regression</th>\n",
       "      <td>0.598131</td>\n",
       "      <td>0.576159</td>\n",
       "      <td>0.612121</td>\n",
       "    </tr>\n",
       "    <tr>\n",
       "      <th>Decision Tree</th>\n",
       "      <td>0.584109</td>\n",
       "      <td>0.556686</td>\n",
       "      <td>0.538462</td>\n",
       "    </tr>\n",
       "    <tr>\n",
       "      <th>KNN</th>\n",
       "      <td>0.500944</td>\n",
       "      <td>0.458494</td>\n",
       "      <td>0.476190</td>\n",
       "    </tr>\n",
       "  </tbody>\n",
       "</table>\n",
       "</div>"
      ],
      "text/plain": [
       "                     f1 score (train set)  f1 score (validation set)  \\\n",
       "model                                                                  \n",
       "GradienBoost                     0.802348                   0.730819   \n",
       "AdaBoost                         0.804757                   0.737737   \n",
       "XGBoost                          0.803134                   0.730838   \n",
       "Random Forest                    0.648395                   0.638604   \n",
       "Logistic Regression              0.598131                   0.576159   \n",
       "Decision Tree                    0.584109                   0.556686   \n",
       "KNN                              0.500944                   0.458494   \n",
       "\n",
       "                     f1 score (test set)  \n",
       "model                                     \n",
       "GradienBoost                    0.693878  \n",
       "AdaBoost                        0.683544  \n",
       "XGBoost                         0.666667  \n",
       "Random Forest                   0.626667  \n",
       "Logistic Regression             0.612121  \n",
       "Decision Tree                   0.538462  \n",
       "KNN                             0.476190  "
      ]
     },
     "execution_count": 61,
     "metadata": {},
     "output_type": "execute_result"
    }
   ],
   "source": [
    "pd.DataFrame({'model':['Logistic Regression', 'KNN', 'Decision Tree', 'Random Forest', 'AdaBoost', 'GradienBoost', 'XGBoost'],\n",
    "             'f1 score (train set)': score_f1_train,\n",
    "             'f1 score (validation set)':mean_with_sampling,\n",
    "             'f1 score (test set)': score_f1_test}).set_index('model').sort_values(by='f1 score (test set)',ascending=False)"
   ]
  },
  {
   "cell_type": "code",
   "execution_count": 62,
   "id": "722c7cb0-929c-4b00-a384-68ff1463efce",
   "metadata": {},
   "outputs": [],
   "source": [
    "# Model\n",
    "xgb = XGBClassifier(learning_rate=0.1,random_state=42,max_depth=3)\n",
    "ada=AdaBoostClassifier(tree,learning_rate=0.1,random_state=42)\n",
    "gbc=GradientBoostingClassifier(learning_rate=0.1,random_state=42,max_depth=3)\n"
   ]
  },
  {
   "cell_type": "code",
   "execution_count": 63,
   "id": "4b4fef3a-362d-407e-abc2-0ba473341099",
   "metadata": {},
   "outputs": [],
   "source": [
    "# Estimator\n",
    "tunning_models=[xgb,ada,gbc]\n",
    "for model in tunning_models: \n",
    "    estimator=Pipeline([\n",
    "        ('processing',transformer),('scalar',scaler),('sampling',resample),\n",
    "        ('model',model)\n",
    "    ])"
   ]
  },
  {
   "cell_type": "code",
   "execution_count": 64,
   "id": "d54957dd-399e-4b99-a1b5-1eba9693af7b",
   "metadata": {},
   "outputs": [],
   "source": [
    "hyperparam=[\n",
    "    {'model':[xgb],\n",
    "    'model__learning_rate':[0.25],\n",
    "    'model__n_estimators':[50],\n",
    "    'model__max_depth':[3,4,5]},\n",
    "    {'model':[xgb],\n",
    "    'model__learning_rate':[0.05],\n",
    "    'model__n_estimators':[100],\n",
    "    'model__max_depth':[3,4,5]},\n",
    "    {'model':[xgb],\n",
    "    'model__learning_rate':[0.1],\n",
    "    'model__n_estimators':[200],\n",
    "    'model__max_depth':[3,4,5]},\n",
    "     {'model':[ada],\n",
    "    'model__learning_rate':[0.25],\n",
    "    'model__base_estimator__criterion':['gini','entropy'],\n",
    "    'model__base_estimator__max_depth':[1,2,3,4,5],\n",
    "    'model__n_estimators':[50]},\n",
    "    {'model':[ada],\n",
    "    'model__learning_rate':[0.05],\n",
    "    'model__base_estimator__criterion':['gini','entropy'],\n",
    "    'model__base_estimator__max_depth':[1,2,3,4,5],\n",
    "    'model__n_estimators':[100]},\n",
    "    {'model':[ada],\n",
    "    'model__learning_rate':[0.1],\n",
    "    'model__base_estimator__criterion':['gini','entropy'],\n",
    "    'model__base_estimator__max_depth':[1,2,3,4,5],\n",
    "    'model__n_estimators':[200]},\n",
    "    {'model':[gbc],\n",
    "    'model__learning_rate':[0.25],\n",
    "    'model__n_estimators':[50],\n",
    "    'model__max_depth':[1,2,3,4,5]},\n",
    "    {'model':[gbc],\n",
    "    'model__learning_rate':[0.05],\n",
    "    'model__n_estimators':[100],\n",
    "    'model__max_depth':[1,2,3,4,5]},\n",
    "    {'model':[gbc],\n",
    "    'model__learning_rate':[0.1],\n",
    "    'model__n_estimators':[200],\n",
    "    'model__max_depth':[1,2,3,4,5]},\n",
    "]"
   ]
  },
  {
   "cell_type": "code",
   "execution_count": 65,
   "id": "004b42ff-0113-4a6a-87ed-b618a913f513",
   "metadata": {},
   "outputs": [],
   "source": [
    "# Grid Search\n",
    "skfold=StratifiedKFold(n_splits=5)\n",
    "grid=GridSearchCV(estimator,\n",
    "                 param_grid=hyperparam,\n",
    "                 cv=skfold,\n",
    "                 scoring='f1',\n",
    "                 n_jobs=-1)"
   ]
  },
  {
   "cell_type": "code",
   "execution_count": 66,
   "id": "005b7b85-69d6-40f5-9643-2ff4a166f7f7",
   "metadata": {},
   "outputs": [
    {
     "data": {
      "text/html": [
       "<style>#sk-container-id-1 {color: black;background-color: white;}#sk-container-id-1 pre{padding: 0;}#sk-container-id-1 div.sk-toggleable {background-color: white;}#sk-container-id-1 label.sk-toggleable__label {cursor: pointer;display: block;width: 100%;margin-bottom: 0;padding: 0.3em;box-sizing: border-box;text-align: center;}#sk-container-id-1 label.sk-toggleable__label-arrow:before {content: \"▸\";float: left;margin-right: 0.25em;color: #696969;}#sk-container-id-1 label.sk-toggleable__label-arrow:hover:before {color: black;}#sk-container-id-1 div.sk-estimator:hover label.sk-toggleable__label-arrow:before {color: black;}#sk-container-id-1 div.sk-toggleable__content {max-height: 0;max-width: 0;overflow: hidden;text-align: left;background-color: #f0f8ff;}#sk-container-id-1 div.sk-toggleable__content pre {margin: 0.2em;color: black;border-radius: 0.25em;background-color: #f0f8ff;}#sk-container-id-1 input.sk-toggleable__control:checked~div.sk-toggleable__content {max-height: 200px;max-width: 100%;overflow: auto;}#sk-container-id-1 input.sk-toggleable__control:checked~label.sk-toggleable__label-arrow:before {content: \"▾\";}#sk-container-id-1 div.sk-estimator input.sk-toggleable__control:checked~label.sk-toggleable__label {background-color: #d4ebff;}#sk-container-id-1 div.sk-label input.sk-toggleable__control:checked~label.sk-toggleable__label {background-color: #d4ebff;}#sk-container-id-1 input.sk-hidden--visually {border: 0;clip: rect(1px 1px 1px 1px);clip: rect(1px, 1px, 1px, 1px);height: 1px;margin: -1px;overflow: hidden;padding: 0;position: absolute;width: 1px;}#sk-container-id-1 div.sk-estimator {font-family: monospace;background-color: #f0f8ff;border: 1px dotted black;border-radius: 0.25em;box-sizing: border-box;margin-bottom: 0.5em;}#sk-container-id-1 div.sk-estimator:hover {background-color: #d4ebff;}#sk-container-id-1 div.sk-parallel-item::after {content: \"\";width: 100%;border-bottom: 1px solid gray;flex-grow: 1;}#sk-container-id-1 div.sk-label:hover label.sk-toggleable__label {background-color: #d4ebff;}#sk-container-id-1 div.sk-serial::before {content: \"\";position: absolute;border-left: 1px solid gray;box-sizing: border-box;top: 0;bottom: 0;left: 50%;z-index: 0;}#sk-container-id-1 div.sk-serial {display: flex;flex-direction: column;align-items: center;background-color: white;padding-right: 0.2em;padding-left: 0.2em;position: relative;}#sk-container-id-1 div.sk-item {position: relative;z-index: 1;}#sk-container-id-1 div.sk-parallel {display: flex;align-items: stretch;justify-content: center;background-color: white;position: relative;}#sk-container-id-1 div.sk-item::before, #sk-container-id-1 div.sk-parallel-item::before {content: \"\";position: absolute;border-left: 1px solid gray;box-sizing: border-box;top: 0;bottom: 0;left: 50%;z-index: -1;}#sk-container-id-1 div.sk-parallel-item {display: flex;flex-direction: column;z-index: 1;position: relative;background-color: white;}#sk-container-id-1 div.sk-parallel-item:first-child::after {align-self: flex-end;width: 50%;}#sk-container-id-1 div.sk-parallel-item:last-child::after {align-self: flex-start;width: 50%;}#sk-container-id-1 div.sk-parallel-item:only-child::after {width: 0;}#sk-container-id-1 div.sk-dashed-wrapped {border: 1px dashed gray;margin: 0 0.4em 0.5em 0.4em;box-sizing: border-box;padding-bottom: 0.4em;background-color: white;}#sk-container-id-1 div.sk-label label {font-family: monospace;font-weight: bold;display: inline-block;line-height: 1.2em;}#sk-container-id-1 div.sk-label-container {text-align: center;}#sk-container-id-1 div.sk-container {/* jupyter's `normalize.less` sets `[hidden] { display: none; }` but bootstrap.min.css set `[hidden] { display: none !important; }` so we also need the `!important` here to be able to override the default hidden behavior on the sphinx rendered scikit-learn.org. See: https://github.com/scikit-learn/scikit-learn/issues/21755 */display: inline-block !important;position: relative;}#sk-container-id-1 div.sk-text-repr-fallback {display: none;}</style><div id=\"sk-container-id-1\" class=\"sk-top-container\"><div class=\"sk-text-repr-fallback\"><pre>GridSearchCV(cv=StratifiedKFold(n_splits=5, random_state=None, shuffle=False),\n",
       "             estimator=Pipeline(steps=[(&#x27;processing&#x27;,\n",
       "                                        ColumnTransformer(remainder=&#x27;passthrough&#x27;,\n",
       "                                                          transformers=[(&#x27;one &#x27;\n",
       "                                                                         &#x27;hot&#x27;,\n",
       "                                                                         OneHotEncoder(drop=&#x27;first&#x27;),\n",
       "                                                                         [&#x27;PreferredLoginDevice&#x27;,\n",
       "                                                                          &#x27;PreferredPaymentMode&#x27;,\n",
       "                                                                          &#x27;Gender&#x27;,\n",
       "                                                                          &#x27;PreferedOrderCat&#x27;,\n",
       "                                                                          &#x27;MaritalStatus&#x27;])])),\n",
       "                                       (&#x27;scalar&#x27;, MinMaxScaler()),\n",
       "                                       (&#x27;sampling&#x27;, SMOT...\n",
       "                         {&#x27;model&#x27;: [GradientBoostingClassifier(max_depth=5,\n",
       "                                                               n_estimators=200,\n",
       "                                                               random_state=42)],\n",
       "                          &#x27;model__learning_rate&#x27;: [0.05],\n",
       "                          &#x27;model__max_depth&#x27;: [1, 2, 3, 4, 5],\n",
       "                          &#x27;model__n_estimators&#x27;: [100]},\n",
       "                         {&#x27;model&#x27;: [GradientBoostingClassifier(max_depth=5,\n",
       "                                                               n_estimators=200,\n",
       "                                                               random_state=42)],\n",
       "                          &#x27;model__learning_rate&#x27;: [0.1],\n",
       "                          &#x27;model__max_depth&#x27;: [1, 2, 3, 4, 5],\n",
       "                          &#x27;model__n_estimators&#x27;: [200]}],\n",
       "             scoring=&#x27;f1&#x27;)</pre><b>In a Jupyter environment, please rerun this cell to show the HTML representation or trust the notebook. <br />On GitHub, the HTML representation is unable to render, please try loading this page with nbviewer.org.</b></div><div class=\"sk-container\" hidden><div class=\"sk-item sk-dashed-wrapped\"><div class=\"sk-label-container\"><div class=\"sk-label sk-toggleable\"><input class=\"sk-toggleable__control sk-hidden--visually\" id=\"sk-estimator-id-1\" type=\"checkbox\" ><label for=\"sk-estimator-id-1\" class=\"sk-toggleable__label sk-toggleable__label-arrow\">GridSearchCV</label><div class=\"sk-toggleable__content\"><pre>GridSearchCV(cv=StratifiedKFold(n_splits=5, random_state=None, shuffle=False),\n",
       "             estimator=Pipeline(steps=[(&#x27;processing&#x27;,\n",
       "                                        ColumnTransformer(remainder=&#x27;passthrough&#x27;,\n",
       "                                                          transformers=[(&#x27;one &#x27;\n",
       "                                                                         &#x27;hot&#x27;,\n",
       "                                                                         OneHotEncoder(drop=&#x27;first&#x27;),\n",
       "                                                                         [&#x27;PreferredLoginDevice&#x27;,\n",
       "                                                                          &#x27;PreferredPaymentMode&#x27;,\n",
       "                                                                          &#x27;Gender&#x27;,\n",
       "                                                                          &#x27;PreferedOrderCat&#x27;,\n",
       "                                                                          &#x27;MaritalStatus&#x27;])])),\n",
       "                                       (&#x27;scalar&#x27;, MinMaxScaler()),\n",
       "                                       (&#x27;sampling&#x27;, SMOT...\n",
       "                         {&#x27;model&#x27;: [GradientBoostingClassifier(max_depth=5,\n",
       "                                                               n_estimators=200,\n",
       "                                                               random_state=42)],\n",
       "                          &#x27;model__learning_rate&#x27;: [0.05],\n",
       "                          &#x27;model__max_depth&#x27;: [1, 2, 3, 4, 5],\n",
       "                          &#x27;model__n_estimators&#x27;: [100]},\n",
       "                         {&#x27;model&#x27;: [GradientBoostingClassifier(max_depth=5,\n",
       "                                                               n_estimators=200,\n",
       "                                                               random_state=42)],\n",
       "                          &#x27;model__learning_rate&#x27;: [0.1],\n",
       "                          &#x27;model__max_depth&#x27;: [1, 2, 3, 4, 5],\n",
       "                          &#x27;model__n_estimators&#x27;: [200]}],\n",
       "             scoring=&#x27;f1&#x27;)</pre></div></div></div><div class=\"sk-parallel\"><div class=\"sk-parallel-item\"><div class=\"sk-item\"><div class=\"sk-label-container\"><div class=\"sk-label sk-toggleable\"><input class=\"sk-toggleable__control sk-hidden--visually\" id=\"sk-estimator-id-2\" type=\"checkbox\" ><label for=\"sk-estimator-id-2\" class=\"sk-toggleable__label sk-toggleable__label-arrow\">estimator: Pipeline</label><div class=\"sk-toggleable__content\"><pre>Pipeline(steps=[(&#x27;processing&#x27;,\n",
       "                 ColumnTransformer(remainder=&#x27;passthrough&#x27;,\n",
       "                                   transformers=[(&#x27;one hot&#x27;,\n",
       "                                                  OneHotEncoder(drop=&#x27;first&#x27;),\n",
       "                                                  [&#x27;PreferredLoginDevice&#x27;,\n",
       "                                                   &#x27;PreferredPaymentMode&#x27;,\n",
       "                                                   &#x27;Gender&#x27;, &#x27;PreferedOrderCat&#x27;,\n",
       "                                                   &#x27;MaritalStatus&#x27;])])),\n",
       "                (&#x27;scalar&#x27;, MinMaxScaler()), (&#x27;sampling&#x27;, SMOTE()),\n",
       "                (&#x27;model&#x27;,\n",
       "                 GradientBoostingClassifier(max_depth=5, n_estimators=200,\n",
       "                                            random_state=42))])</pre></div></div></div><div class=\"sk-serial\"><div class=\"sk-item\"><div class=\"sk-serial\"><div class=\"sk-item sk-dashed-wrapped\"><div class=\"sk-label-container\"><div class=\"sk-label sk-toggleable\"><input class=\"sk-toggleable__control sk-hidden--visually\" id=\"sk-estimator-id-3\" type=\"checkbox\" ><label for=\"sk-estimator-id-3\" class=\"sk-toggleable__label sk-toggleable__label-arrow\">processing: ColumnTransformer</label><div class=\"sk-toggleable__content\"><pre>ColumnTransformer(remainder=&#x27;passthrough&#x27;,\n",
       "                  transformers=[(&#x27;one hot&#x27;, OneHotEncoder(drop=&#x27;first&#x27;),\n",
       "                                 [&#x27;PreferredLoginDevice&#x27;,\n",
       "                                  &#x27;PreferredPaymentMode&#x27;, &#x27;Gender&#x27;,\n",
       "                                  &#x27;PreferedOrderCat&#x27;, &#x27;MaritalStatus&#x27;])])</pre></div></div></div><div class=\"sk-parallel\"><div class=\"sk-parallel-item\"><div class=\"sk-item\"><div class=\"sk-label-container\"><div class=\"sk-label sk-toggleable\"><input class=\"sk-toggleable__control sk-hidden--visually\" id=\"sk-estimator-id-4\" type=\"checkbox\" ><label for=\"sk-estimator-id-4\" class=\"sk-toggleable__label sk-toggleable__label-arrow\">one hot</label><div class=\"sk-toggleable__content\"><pre>[&#x27;PreferredLoginDevice&#x27;, &#x27;PreferredPaymentMode&#x27;, &#x27;Gender&#x27;, &#x27;PreferedOrderCat&#x27;, &#x27;MaritalStatus&#x27;]</pre></div></div></div><div class=\"sk-serial\"><div class=\"sk-item\"><div class=\"sk-estimator sk-toggleable\"><input class=\"sk-toggleable__control sk-hidden--visually\" id=\"sk-estimator-id-5\" type=\"checkbox\" ><label for=\"sk-estimator-id-5\" class=\"sk-toggleable__label sk-toggleable__label-arrow\">OneHotEncoder</label><div class=\"sk-toggleable__content\"><pre>OneHotEncoder(drop=&#x27;first&#x27;)</pre></div></div></div></div></div></div><div class=\"sk-parallel-item\"><div class=\"sk-item\"><div class=\"sk-label-container\"><div class=\"sk-label sk-toggleable\"><input class=\"sk-toggleable__control sk-hidden--visually\" id=\"sk-estimator-id-6\" type=\"checkbox\" ><label for=\"sk-estimator-id-6\" class=\"sk-toggleable__label sk-toggleable__label-arrow\">remainder</label><div class=\"sk-toggleable__content\"><pre>[&#x27;CustomerID&#x27;, &#x27;Tenure&#x27;, &#x27;CityTier&#x27;, &#x27;WarehouseToHome&#x27;, &#x27;HourSpendOnApp&#x27;, &#x27;NumberOfDeviceRegistered&#x27;, &#x27;SatisfactionScore&#x27;, &#x27;NumberOfAddress&#x27;, &#x27;Complain&#x27;, &#x27;OrderAmountHikeFromlastYear&#x27;, &#x27;CouponUsed&#x27;, &#x27;OrderCount&#x27;, &#x27;DaySinceLastOrder&#x27;, &#x27;CashbackAmount&#x27;]</pre></div></div></div><div class=\"sk-serial\"><div class=\"sk-item\"><div class=\"sk-estimator sk-toggleable\"><input class=\"sk-toggleable__control sk-hidden--visually\" id=\"sk-estimator-id-7\" type=\"checkbox\" ><label for=\"sk-estimator-id-7\" class=\"sk-toggleable__label sk-toggleable__label-arrow\">passthrough</label><div class=\"sk-toggleable__content\"><pre>passthrough</pre></div></div></div></div></div></div></div></div><div class=\"sk-item\"><div class=\"sk-estimator sk-toggleable\"><input class=\"sk-toggleable__control sk-hidden--visually\" id=\"sk-estimator-id-8\" type=\"checkbox\" ><label for=\"sk-estimator-id-8\" class=\"sk-toggleable__label sk-toggleable__label-arrow\">MinMaxScaler</label><div class=\"sk-toggleable__content\"><pre>MinMaxScaler()</pre></div></div></div><div class=\"sk-item\"><div class=\"sk-estimator sk-toggleable\"><input class=\"sk-toggleable__control sk-hidden--visually\" id=\"sk-estimator-id-9\" type=\"checkbox\" ><label for=\"sk-estimator-id-9\" class=\"sk-toggleable__label sk-toggleable__label-arrow\">SMOTE</label><div class=\"sk-toggleable__content\"><pre>SMOTE()</pre></div></div></div><div class=\"sk-item\"><div class=\"sk-estimator sk-toggleable\"><input class=\"sk-toggleable__control sk-hidden--visually\" id=\"sk-estimator-id-10\" type=\"checkbox\" ><label for=\"sk-estimator-id-10\" class=\"sk-toggleable__label sk-toggleable__label-arrow\">GradientBoostingClassifier</label><div class=\"sk-toggleable__content\"><pre>GradientBoostingClassifier(max_depth=5, n_estimators=200, random_state=42)</pre></div></div></div></div></div></div></div></div></div></div></div></div>"
      ],
      "text/plain": [
       "GridSearchCV(cv=StratifiedKFold(n_splits=5, random_state=None, shuffle=False),\n",
       "             estimator=Pipeline(steps=[('processing',\n",
       "                                        ColumnTransformer(remainder='passthrough',\n",
       "                                                          transformers=[('one '\n",
       "                                                                         'hot',\n",
       "                                                                         OneHotEncoder(drop='first'),\n",
       "                                                                         ['PreferredLoginDevice',\n",
       "                                                                          'PreferredPaymentMode',\n",
       "                                                                          'Gender',\n",
       "                                                                          'PreferedOrderCat',\n",
       "                                                                          'MaritalStatus'])])),\n",
       "                                       ('scalar', MinMaxScaler()),\n",
       "                                       ('sampling', SMOT...\n",
       "                         {'model': [GradientBoostingClassifier(max_depth=5,\n",
       "                                                               n_estimators=200,\n",
       "                                                               random_state=42)],\n",
       "                          'model__learning_rate': [0.05],\n",
       "                          'model__max_depth': [1, 2, 3, 4, 5],\n",
       "                          'model__n_estimators': [100]},\n",
       "                         {'model': [GradientBoostingClassifier(max_depth=5,\n",
       "                                                               n_estimators=200,\n",
       "                                                               random_state=42)],\n",
       "                          'model__learning_rate': [0.1],\n",
       "                          'model__max_depth': [1, 2, 3, 4, 5],\n",
       "                          'model__n_estimators': [200]}],\n",
       "             scoring='f1')"
      ]
     },
     "execution_count": 66,
     "metadata": {},
     "output_type": "execute_result"
    }
   ],
   "source": [
    "grid.fit(x_train,y_train)"
   ]
  },
  {
   "cell_type": "code",
   "execution_count": 67,
   "id": "2b476331-8550-4333-91bc-c8537db0002f",
   "metadata": {},
   "outputs": [
    {
     "data": {
      "text/plain": [
       "({'model': GradientBoostingClassifier(max_depth=5, n_estimators=200, random_state=42),\n",
       "  'model__learning_rate': 0.1,\n",
       "  'model__max_depth': 5,\n",
       "  'model__n_estimators': 200},\n",
       " 0.8656554496472504)"
      ]
     },
     "execution_count": 67,
     "metadata": {},
     "output_type": "execute_result"
    }
   ],
   "source": [
    "grid.best_params_, grid.best_score_"
   ]
  },
  {
   "cell_type": "code",
   "execution_count": 83,
   "id": "21178667-a488-476e-bf23-7a5860e99814",
   "metadata": {},
   "outputs": [
    {
     "name": "stdout",
     "output_type": "stream",
     "text": [
      "              precision    recall  f1-score   support\n",
      "\n",
      "           0       0.93      0.97      0.95       629\n",
      "           1       0.79      0.64      0.71       126\n",
      "\n",
      "    accuracy                           0.91       755\n",
      "   macro avg       0.86      0.80      0.83       755\n",
      "weighted avg       0.91      0.91      0.91       755\n",
      "\n"
     ]
    }
   ],
   "source": [
    "# Before Tuning\n",
    "ada=AdaBoostClassifier(tree,learning_rate=0.1,random_state=42)\n",
    "estimator=Pipeline([\n",
    "    ('processing',transformer),\n",
    "    ('scaler',scaler),\n",
    "    ('sampling',resample),\n",
    "    ('model',ada)\n",
    "])\n",
    "estimator.fit(x_train,y_train)\n",
    "y_pred_before=estimator.predict(x_test)\n",
    "print(classification_report(y_test,y_pred_before))"
   ]
  },
  {
   "cell_type": "code",
   "execution_count": 84,
   "id": "f95b09ac-631c-4ba3-b646-ae5f78f7f84c",
   "metadata": {},
   "outputs": [
    {
     "name": "stdout",
     "output_type": "stream",
     "text": [
      "              precision    recall  f1-score   support\n",
      "\n",
      "           0       0.96      0.98      0.97       629\n",
      "           1       0.87      0.79      0.82       126\n",
      "\n",
      "    accuracy                           0.94       755\n",
      "   macro avg       0.91      0.88      0.90       755\n",
      "weighted avg       0.94      0.94      0.94       755\n",
      "\n"
     ]
    }
   ],
   "source": [
    "# After Tuning\n",
    "best_model=grid.best_estimator_\n",
    "best_model.fit(x_train,y_train)\n",
    "y_pred_after=best_model.predict(x_test)\n",
    "print(classification_report(y_test,y_pred_after))"
   ]
  },
  {
   "cell_type": "code",
   "execution_count": 85,
   "id": "d2432379-6a43-4892-a474-3d1976f1d34b",
   "metadata": {},
   "outputs": [
    {
     "data": {
      "text/plain": [
       "<sklearn.metrics._plot.confusion_matrix.ConfusionMatrixDisplay at 0x1de58cfafd0>"
      ]
     },
     "execution_count": 85,
     "metadata": {},
     "output_type": "execute_result"
    },
    {
     "data": {
      "image/png": "[encoded data removed]",
      "text/plain": [
       "<Figure size 432x288 with 2 Axes>"
      ]
     },
     "metadata": {
      "needs_background": "light"
     },
     "output_type": "display_data"
    }
   ],
   "source": [
    "plot_confusion_matrix(best_model, x_test, y_test, display_labels=['Not Churn', 'Churn'])"
   ]
  },
  {
   "cell_type": "code",
   "execution_count": 86,
   "id": "f132e8e9-1b02-47dc-81dd-78447b68815e",
   "metadata": {},
   "outputs": [],
   "source": [
    "features=list(best_model[0].transformers_[0][1].get_feature_names_out())+list(x.columns[best_model[0].transformers_[1][2]])"
   ]
  },
  {
   "cell_type": "code",
   "execution_count": 87,
   "id": "c512f596-7adc-430b-9d54-7082dc1a2a1f",
   "metadata": {},
   "outputs": [
    {
     "data": {
      "text/html": [
       "<style>#sk-container-id-3 {color: black;background-color: white;}#sk-container-id-3 pre{padding: 0;}#sk-container-id-3 div.sk-toggleable {background-color: white;}#sk-container-id-3 label.sk-toggleable__label {cursor: pointer;display: block;width: 100%;margin-bottom: 0;padding: 0.3em;box-sizing: border-box;text-align: center;}#sk-container-id-3 label.sk-toggleable__label-arrow:before {content: \"▸\";float: left;margin-right: 0.25em;color: #696969;}#sk-container-id-3 label.sk-toggleable__label-arrow:hover:before {color: black;}#sk-container-id-3 div.sk-estimator:hover label.sk-toggleable__label-arrow:before {color: black;}#sk-container-id-3 div.sk-toggleable__content {max-height: 0;max-width: 0;overflow: hidden;text-align: left;background-color: #f0f8ff;}#sk-container-id-3 div.sk-toggleable__content pre {margin: 0.2em;color: black;border-radius: 0.25em;background-color: #f0f8ff;}#sk-container-id-3 input.sk-toggleable__control:checked~div.sk-toggleable__content {max-height: 200px;max-width: 100%;overflow: auto;}#sk-container-id-3 input.sk-toggleable__control:checked~label.sk-toggleable__label-arrow:before {content: \"▾\";}#sk-container-id-3 div.sk-estimator input.sk-toggleable__control:checked~label.sk-toggleable__label {background-color: #d4ebff;}#sk-container-id-3 div.sk-label input.sk-toggleable__control:checked~label.sk-toggleable__label {background-color: #d4ebff;}#sk-container-id-3 input.sk-hidden--visually {border: 0;clip: rect(1px 1px 1px 1px);clip: rect(1px, 1px, 1px, 1px);height: 1px;margin: -1px;overflow: hidden;padding: 0;position: absolute;width: 1px;}#sk-container-id-3 div.sk-estimator {font-family: monospace;background-color: #f0f8ff;border: 1px dotted black;border-radius: 0.25em;box-sizing: border-box;margin-bottom: 0.5em;}#sk-container-id-3 div.sk-estimator:hover {background-color: #d4ebff;}#sk-container-id-3 div.sk-parallel-item::after {content: \"\";width: 100%;border-bottom: 1px solid gray;flex-grow: 1;}#sk-container-id-3 div.sk-label:hover label.sk-toggleable__label {background-color: #d4ebff;}#sk-container-id-3 div.sk-serial::before {content: \"\";position: absolute;border-left: 1px solid gray;box-sizing: border-box;top: 0;bottom: 0;left: 50%;z-index: 0;}#sk-container-id-3 div.sk-serial {display: flex;flex-direction: column;align-items: center;background-color: white;padding-right: 0.2em;padding-left: 0.2em;position: relative;}#sk-container-id-3 div.sk-item {position: relative;z-index: 1;}#sk-container-id-3 div.sk-parallel {display: flex;align-items: stretch;justify-content: center;background-color: white;position: relative;}#sk-container-id-3 div.sk-item::before, #sk-container-id-3 div.sk-parallel-item::before {content: \"\";position: absolute;border-left: 1px solid gray;box-sizing: border-box;top: 0;bottom: 0;left: 50%;z-index: -1;}#sk-container-id-3 div.sk-parallel-item {display: flex;flex-direction: column;z-index: 1;position: relative;background-color: white;}#sk-container-id-3 div.sk-parallel-item:first-child::after {align-self: flex-end;width: 50%;}#sk-container-id-3 div.sk-parallel-item:last-child::after {align-self: flex-start;width: 50%;}#sk-container-id-3 div.sk-parallel-item:only-child::after {width: 0;}#sk-container-id-3 div.sk-dashed-wrapped {border: 1px dashed gray;margin: 0 0.4em 0.5em 0.4em;box-sizing: border-box;padding-bottom: 0.4em;background-color: white;}#sk-container-id-3 div.sk-label label {font-family: monospace;font-weight: bold;display: inline-block;line-height: 1.2em;}#sk-container-id-3 div.sk-label-container {text-align: center;}#sk-container-id-3 div.sk-container {/* jupyter's `normalize.less` sets `[hidden] { display: none; }` but bootstrap.min.css set `[hidden] { display: none !important; }` so we also need the `!important` here to be able to override the default hidden behavior on the sphinx rendered scikit-learn.org. See: https://github.com/scikit-learn/scikit-learn/issues/21755 */display: inline-block !important;position: relative;}#sk-container-id-3 div.sk-text-repr-fallback {display: none;}</style><div id=\"sk-container-id-3\" class=\"sk-top-container\"><div class=\"sk-text-repr-fallback\"><pre>Pipeline(steps=[(&#x27;processing&#x27;,\n",
       "                 ColumnTransformer(remainder=&#x27;passthrough&#x27;,\n",
       "                                   transformers=[(&#x27;one hot&#x27;,\n",
       "                                                  OneHotEncoder(drop=&#x27;first&#x27;),\n",
       "                                                  [&#x27;PreferredLoginDevice&#x27;,\n",
       "                                                   &#x27;PreferredPaymentMode&#x27;,\n",
       "                                                   &#x27;Gender&#x27;, &#x27;PreferedOrderCat&#x27;,\n",
       "                                                   &#x27;MaritalStatus&#x27;])])),\n",
       "                (&#x27;scalar&#x27;, MinMaxScaler()), (&#x27;sampling&#x27;, SMOTE()),\n",
       "                (&#x27;model&#x27;,\n",
       "                 GradientBoostingClassifier(max_depth=5, n_estimators=200,\n",
       "                                            random_state=42))])</pre><b>In a Jupyter environment, please rerun this cell to show the HTML representation or trust the notebook. <br />On GitHub, the HTML representation is unable to render, please try loading this page with nbviewer.org.</b></div><div class=\"sk-container\" hidden><div class=\"sk-item sk-dashed-wrapped\"><div class=\"sk-label-container\"><div class=\"sk-label sk-toggleable\"><input class=\"sk-toggleable__control sk-hidden--visually\" id=\"sk-estimator-id-20\" type=\"checkbox\" ><label for=\"sk-estimator-id-20\" class=\"sk-toggleable__label sk-toggleable__label-arrow\">Pipeline</label><div class=\"sk-toggleable__content\"><pre>Pipeline(steps=[(&#x27;processing&#x27;,\n",
       "                 ColumnTransformer(remainder=&#x27;passthrough&#x27;,\n",
       "                                   transformers=[(&#x27;one hot&#x27;,\n",
       "                                                  OneHotEncoder(drop=&#x27;first&#x27;),\n",
       "                                                  [&#x27;PreferredLoginDevice&#x27;,\n",
       "                                                   &#x27;PreferredPaymentMode&#x27;,\n",
       "                                                   &#x27;Gender&#x27;, &#x27;PreferedOrderCat&#x27;,\n",
       "                                                   &#x27;MaritalStatus&#x27;])])),\n",
       "                (&#x27;scalar&#x27;, MinMaxScaler()), (&#x27;sampling&#x27;, SMOTE()),\n",
       "                (&#x27;model&#x27;,\n",
       "                 GradientBoostingClassifier(max_depth=5, n_estimators=200,\n",
       "                                            random_state=42))])</pre></div></div></div><div class=\"sk-serial\"><div class=\"sk-item sk-dashed-wrapped\"><div class=\"sk-label-container\"><div class=\"sk-label sk-toggleable\"><input class=\"sk-toggleable__control sk-hidden--visually\" id=\"sk-estimator-id-21\" type=\"checkbox\" ><label for=\"sk-estimator-id-21\" class=\"sk-toggleable__label sk-toggleable__label-arrow\">processing: ColumnTransformer</label><div class=\"sk-toggleable__content\"><pre>ColumnTransformer(remainder=&#x27;passthrough&#x27;,\n",
       "                  transformers=[(&#x27;one hot&#x27;, OneHotEncoder(drop=&#x27;first&#x27;),\n",
       "                                 [&#x27;PreferredLoginDevice&#x27;,\n",
       "                                  &#x27;PreferredPaymentMode&#x27;, &#x27;Gender&#x27;,\n",
       "                                  &#x27;PreferedOrderCat&#x27;, &#x27;MaritalStatus&#x27;])])</pre></div></div></div><div class=\"sk-parallel\"><div class=\"sk-parallel-item\"><div class=\"sk-item\"><div class=\"sk-label-container\"><div class=\"sk-label sk-toggleable\"><input class=\"sk-toggleable__control sk-hidden--visually\" id=\"sk-estimator-id-22\" type=\"checkbox\" ><label for=\"sk-estimator-id-22\" class=\"sk-toggleable__label sk-toggleable__label-arrow\">one hot</label><div class=\"sk-toggleable__content\"><pre>[&#x27;PreferredLoginDevice&#x27;, &#x27;PreferredPaymentMode&#x27;, &#x27;Gender&#x27;, &#x27;PreferedOrderCat&#x27;, &#x27;MaritalStatus&#x27;]</pre></div></div></div><div class=\"sk-serial\"><div class=\"sk-item\"><div class=\"sk-estimator sk-toggleable\"><input class=\"sk-toggleable__control sk-hidden--visually\" id=\"sk-estimator-id-23\" type=\"checkbox\" ><label for=\"sk-estimator-id-23\" class=\"sk-toggleable__label sk-toggleable__label-arrow\">OneHotEncoder</label><div class=\"sk-toggleable__content\"><pre>OneHotEncoder(drop=&#x27;first&#x27;)</pre></div></div></div></div></div></div><div class=\"sk-parallel-item\"><div class=\"sk-item\"><div class=\"sk-label-container\"><div class=\"sk-label sk-toggleable\"><input class=\"sk-toggleable__control sk-hidden--visually\" id=\"sk-estimator-id-24\" type=\"checkbox\" ><label for=\"sk-estimator-id-24\" class=\"sk-toggleable__label sk-toggleable__label-arrow\">remainder</label><div class=\"sk-toggleable__content\"><pre>[&#x27;CustomerID&#x27;, &#x27;Tenure&#x27;, &#x27;CityTier&#x27;, &#x27;WarehouseToHome&#x27;, &#x27;HourSpendOnApp&#x27;, &#x27;NumberOfDeviceRegistered&#x27;, &#x27;SatisfactionScore&#x27;, &#x27;NumberOfAddress&#x27;, &#x27;Complain&#x27;, &#x27;OrderAmountHikeFromlastYear&#x27;, &#x27;CouponUsed&#x27;, &#x27;OrderCount&#x27;, &#x27;DaySinceLastOrder&#x27;, &#x27;CashbackAmount&#x27;]</pre></div></div></div><div class=\"sk-serial\"><div class=\"sk-item\"><div class=\"sk-estimator sk-toggleable\"><input class=\"sk-toggleable__control sk-hidden--visually\" id=\"sk-estimator-id-25\" type=\"checkbox\" ><label for=\"sk-estimator-id-25\" class=\"sk-toggleable__label sk-toggleable__label-arrow\">passthrough</label><div class=\"sk-toggleable__content\"><pre>passthrough</pre></div></div></div></div></div></div></div></div><div class=\"sk-item\"><div class=\"sk-estimator sk-toggleable\"><input class=\"sk-toggleable__control sk-hidden--visually\" id=\"sk-estimator-id-26\" type=\"checkbox\" ><label for=\"sk-estimator-id-26\" class=\"sk-toggleable__label sk-toggleable__label-arrow\">MinMaxScaler</label><div class=\"sk-toggleable__content\"><pre>MinMaxScaler()</pre></div></div></div><div class=\"sk-item\"><div class=\"sk-estimator sk-toggleable\"><input class=\"sk-toggleable__control sk-hidden--visually\" id=\"sk-estimator-id-27\" type=\"checkbox\" ><label for=\"sk-estimator-id-27\" class=\"sk-toggleable__label sk-toggleable__label-arrow\">SMOTE</label><div class=\"sk-toggleable__content\"><pre>SMOTE()</pre></div></div></div><div class=\"sk-item\"><div class=\"sk-estimator sk-toggleable\"><input class=\"sk-toggleable__control sk-hidden--visually\" id=\"sk-estimator-id-28\" type=\"checkbox\" ><label for=\"sk-estimator-id-28\" class=\"sk-toggleable__label sk-toggleable__label-arrow\">GradientBoostingClassifier</label><div class=\"sk-toggleable__content\"><pre>GradientBoostingClassifier(max_depth=5, n_estimators=200, random_state=42)</pre></div></div></div></div></div></div></div>"
      ],
      "text/plain": [
       "Pipeline(steps=[('processing',\n",
       "                 ColumnTransformer(remainder='passthrough',\n",
       "                                   transformers=[('one hot',\n",
       "                                                  OneHotEncoder(drop='first'),\n",
       "                                                  ['PreferredLoginDevice',\n",
       "                                                   'PreferredPaymentMode',\n",
       "                                                   'Gender', 'PreferedOrderCat',\n",
       "                                                   'MaritalStatus'])])),\n",
       "                ('scalar', MinMaxScaler()), ('sampling', SMOTE()),\n",
       "                ('model',\n",
       "                 GradientBoostingClassifier(max_depth=5, n_estimators=200,\n",
       "                                            random_state=42))])"
      ]
     },
     "execution_count": 87,
     "metadata": {},
     "output_type": "execute_result"
    }
   ],
   "source": [
    "best_model"
   ]
  },
  {
   "cell_type": "code",
   "execution_count": 88,
   "id": "1034e3aa-5fbb-4778-8a80-475da8a260e3",
   "metadata": {
    "tags": []
   },
   "outputs": [
    {
     "data": {
      "text/plain": [
       "['PreferredLoginDevice_Mobile Phone',\n",
       " 'PreferredPaymentMode_Credit Card',\n",
       " 'PreferredPaymentMode_Debit Card',\n",
       " 'PreferredPaymentMode_E wallet',\n",
       " 'PreferredPaymentMode_UPI',\n",
       " 'Gender_Male',\n",
       " 'PreferedOrderCat_Grocery',\n",
       " 'PreferedOrderCat_Laptop & Accessory',\n",
       " 'PreferedOrderCat_Mobile Phone',\n",
       " 'PreferedOrderCat_Others',\n",
       " 'MaritalStatus_Married',\n",
       " 'MaritalStatus_Single',\n",
       " 'CustomerID',\n",
       " 'Tenure',\n",
       " 'CityTier',\n",
       " 'WarehouseToHome',\n",
       " 'HourSpendOnApp',\n",
       " 'NumberOfDeviceRegistered',\n",
       " 'SatisfactionScore',\n",
       " 'NumberOfAddress',\n",
       " 'Complain',\n",
       " 'OrderAmountHikeFromlastYear',\n",
       " 'CouponUsed',\n",
       " 'OrderCount',\n",
       " 'DaySinceLastOrder',\n",
       " 'CashbackAmount']"
      ]
     },
     "execution_count": 88,
     "metadata": {},
     "output_type": "execute_result"
    }
   ],
   "source": [
    "features"
   ]
  },
  {
   "cell_type": "code",
   "execution_count": 107,
   "id": "fec90ca0-60f6-47fb-942f-5355d9492da0",
   "metadata": {},
   "outputs": [
    {
     "data": {
      "text/html": [
       "<div>\n",
       "<style scoped>\n",
       "    .dataframe tbody tr th:only-of-type {\n",
       "        vertical-align: middle;\n",
       "    }\n",
       "\n",
       "    .dataframe tbody tr th {\n",
       "        vertical-align: top;\n",
       "    }\n",
       "\n",
       "    .dataframe thead th {\n",
       "        text-align: right;\n",
       "    }\n",
       "</style>\n",
       "<table border=\"1\" class=\"dataframe\">\n",
       "  <thead>\n",
       "    <tr style=\"text-align: right;\">\n",
       "      <th></th>\n",
       "      <th>important</th>\n",
       "    </tr>\n",
       "  </thead>\n",
       "  <tbody>\n",
       "    <tr>\n",
       "      <th>Tenure</th>\n",
       "      <td>0.425464</td>\n",
       "    </tr>\n",
       "    <tr>\n",
       "      <th>NumberOfAddress</th>\n",
       "      <td>0.139039</td>\n",
       "    </tr>\n",
       "    <tr>\n",
       "      <th>Complain</th>\n",
       "      <td>0.068202</td>\n",
       "    </tr>\n",
       "    <tr>\n",
       "      <th>NumberOfDeviceRegistered</th>\n",
       "      <td>0.041591</td>\n",
       "    </tr>\n",
       "    <tr>\n",
       "      <th>DaySinceLastOrder</th>\n",
       "      <td>0.038842</td>\n",
       "    </tr>\n",
       "  </tbody>\n",
       "</table>\n",
       "</div>"
      ],
      "text/plain": [
       "                          important\n",
       "Tenure                     0.425464\n",
       "NumberOfAddress            0.139039\n",
       "Complain                   0.068202\n",
       "NumberOfDeviceRegistered   0.041591\n",
       "DaySinceLastOrder          0.038842"
      ]
     },
     "execution_count": 107,
     "metadata": {},
     "output_type": "execute_result"
    }
   ],
   "source": [
    "pd.DataFrame({'important':best_model[3].feature_importances_},index=features).sort_values('important',ascending=False).head(5)"
   ]
  },
  {
   "cell_type": "code",
   "execution_count": 90,
   "id": "dbe71e21-82ee-419c-8e54-fbf6a202ad16",
   "metadata": {},
   "outputs": [
    {
     "data": {
      "image/png": "[encoded data removed]",
      "text/plain": [
       "<Figure size 720x720 with 1 Axes>"
      ]
     },
     "metadata": {
      "needs_background": "light"
     },
     "output_type": "display_data"
    }
   ],
   "source": [
    "# Visualizatin\n",
    "pd.DataFrame({'important':best_model[3].feature_importances_},index=features).sort_values('important',ascending=True).plot(kind='barh',figsize=(10,10))\n",
    "plt.show()"
   ]
  },
  {
   "cell_type": "markdown",
   "id": "d7dc0950-f1a0-4b13-8143-a14d59c9a248",
   "metadata": {},
   "source": [
    "Berdasarkan hasil dari Feature Importance, didapati bahwa Feature yang paling berpengaruh terhadap pelanggan yang melakukan churn yaitu Tenure dari para pelanggan"
   ]
  },
  {
   "cell_type": "code",
   "execution_count": 95,
   "id": "78894b54-4387-4046-9874-0463109f1168",
   "metadata": {},
   "outputs": [
    {
     "data": {
      "text/plain": [
       "<sklearn.metrics._plot.confusion_matrix.ConfusionMatrixDisplay at 0x1de59a11280>"
      ]
     },
     "execution_count": 95,
     "metadata": {},
     "output_type": "execute_result"
    },
    {
     "data": {
      "image/png": "[encoded data removed]",
      "text/plain": [
       "<Figure size 432x288 with 2 Axes>"
      ]
     },
     "metadata": {
      "needs_background": "light"
     },
     "output_type": "display_data"
    }
   ],
   "source": [
    "plot_confusion_matrix(best_model, x_test, y_test, display_labels=['Not Churn', 'Churn'])"
   ]
  },
  {
   "cell_type": "markdown",
   "id": "fb4b8624-4e7c-47fd-843f-aee2ce71623e",
   "metadata": {},
   "source": [
    "Evaluasi terhadap biaya yang akan dikeluarkan jika kita menggunakan model **XGBoost** yang sudah kita buat seperti yang sudah di sebutkan pada bagian **Problem Statement** bahwa untuk mendapatkan pelanggan baru memerlukan biaya **5 kali lebih besar** dibandingkan kita mempertahankan pelanggan kita( [sumber](https://www.woopra.com/blog/churn-rate-vs-retention-rate#:~:text=Customer%20churn%20rate%20is%20the,up%20and%20stay%20with%20you.)). Sehingga dapat kita analisa sebegai berikut:\n",
    "\n",
    "1. Pelanggan yang *True Negative* memerlukan biaya **0**.\n",
    "2. Pelanggan yang *False negative* memerlukan biaya yang lebih banyak yaitu harus mengeluarkan biaya yang besar yaitu untuk iklan dan lain lain. Perlu mengeluarkan biaya sebesar **5** * biaya.\n",
    "3. Pelanggan yang teridentifikasi churn ( *True Positive dan False Positif* ) kita akan mengeluarkan **1 * biaya untuk memberikan biaya retensi** misalnya berupa voucher diskon untuk mempertahankan pelanggan ini \n",
    "\n",
    "\n",
    "Hasil :\n",
    "1. Kondisi Paling Buruk <br>\n",
    "Perusahaan tidak menggunakan model untuk memprediksi pelanggan yang akan Churn. padahal terdapat 126 pelanggan yang akan churn sehingga memerlukan biaya 5 * 126 pelanggan = **630 (p)**\n",
    "\n",
    "2. Fokus pemberian kupon pada setiap pelanggan <br>\n",
    "Memberikan kupon diskon kepada setiap pelanggan yaitu sebesar 1 * 755 pelanggan = **755 (p)**\n",
    "\n",
    "3. Kondisi Paling Baik<br>\n",
    "Perusahaan mempunyai prediksi pelanggan yang akan Churn dan akan diberikan kupon diskon dengan biaya : 1* 126 = **126(p)**\n",
    "\n",
    "4. Menggunakan Model yang sekarang <br>\n",
    "Menggunakan model XGBoost akan mengeluarkan biaya sebesar :\n",
    "(5 * 27 pelanggan) + (1* 99) = **234 (p)**\n"
   ]
  },
  {
   "cell_type": "code",
   "execution_count": 106,
   "id": "1aee7af3-688d-4460-815e-c25b9d55d8b2",
   "metadata": {},
   "outputs": [],
   "source": [
    "data = pd.DataFrame(data={'No model' :[630], 'Diskon kepada semua pelanggan':[755], 'kondisi paling ideal': [126], 'Model': [234]}, index=['Perkiraan Biaya'])\n",
    "biaya= data.T.sort_values('Perkiraan Biaya',ascending=False)"
   ]
  },
  {
   "cell_type": "code",
   "execution_count": 97,
   "id": "576a13bc-62d8-4396-931c-1328e67aaaa8",
   "metadata": {},
   "outputs": [
    {
     "data": {
      "image/png": "[encoded data removed]",
      "text/plain": [
       "<Figure size 720x720 with 1 Axes>"
      ]
     },
     "metadata": {
      "needs_background": "light"
     },
     "output_type": "display_data"
    }
   ],
   "source": [
    "plt.figure(figsize=(10,10))\n",
    "ax=sns.barplot(biaya.index,biaya['Perkiraan Biaya'])\n",
    "plt.title('Perbandingan Biaya')\n",
    "plt.xlabel('Kondisi')\n",
    "ax.bar_label(ax.containers[0])\n",
    "plt.show()"
   ]
  },
  {
   "cell_type": "markdown",
   "id": "96891d30-e4d4-4cd0-a97a-8cbba03c1039",
   "metadata": {},
   "source": [
    "* Berdasarkan hasil plotting diatas dapat kita simpulkan bahwa kita dapat menekan biaya pengeluaran perusahaan dengan menggunakan model yang sudah kita buat dengan rincian sebagai berikut:\n",
    "    1. Menghemat biaya sebesar **50 %** dari skenario kondisi terburuk perusahaan.\n",
    "    2. Mengehemat biaya sebesar **70 %** dari skenario memberikan voucher diskon kepada setiap pelanggan.\n",
    "\n",
    "Sehingga dengan menggunakan model yang sudah dibuat, perusahaan dapat menghemat sampai dengan 70 % dari total pengeluarannya.\n",
    "    "
   ]
  },
  {
   "cell_type": "markdown",
   "id": "325bbafc-f1be-450e-835b-eb0e91015110",
   "metadata": {
    "jupyter": {
     "source_hidden": true
    },
    "tags": []
   },
   "source": [
    "## Model Limitation\n",
    "\n",
    "Setelah Dilakukan Proses permodelan, model ini berlaku pada interval tertentu dengan rincian sebagai berikut :\n",
    "* **Tenure** < 37\n",
    "* **WarehouseToHome** < 36.5\n",
    "* **HourSpendOnApp** > 0.5 & <4.5\n",
    "* **NumberDeviceOfRegistered** >1.5 & <5.5\n",
    "* **NumberOfAddress** <12\n",
    "* **OrderAmountHikeFromlastYear** <25.5\n",
    "* **CouponUsed** <3.5\n",
    "* **OrderCount** < 6\n",
    "* **DaySinceLastOrder** < 14.5\n",
    "* **CashBackAmount** >69.825 & <272.625"
   ]
  },
  {
   "cell_type": "markdown",
   "id": "43f1027e-cb89-443a-9298-1dc8be5f65c7",
   "metadata": {},
   "source": [
    "# Kesimpulan & Rekomendasi "
   ]
  },
  {
   "cell_type": "markdown",
   "id": "a1ce7715-4e77-41a5-a93f-868f54be3327",
   "metadata": {},
   "source": [
    "1. Dari analisa yang sudah dilakukan model yang memiliki performa paling maksimal yaitu menggunakan model **GradientBoost Classifier** dengan dilakukan hyperparameter tuning.\n",
    "2. Parameter yang paling baik menggunakan parameter : max_depth=5, n_estimators=200, 'model__learning_rate': 0.1, 'model__max_depth': 5,'model__n_estimators': 200.\n",
    "3. Nilai Recall dan Precision dari kelas positif yaitu masing-masing sebesar **87% dan 79%**\n",
    "4. Fitur paling berpengaruh pada model yaitu **Tenure, NumberOfAddress dan Complain**\n",
    "5. Dengan menggunakan model ini dapat menghemat sampai dengan **70 %** total pengeluaran perusahaan dibandingkan dengan perusahan tidak menggunakan model.\n",
    "\n",
    "**Rekomendasi** :\n",
    "1. Dapat menggunakan algoritma Machine Learning lain seperti CatBoost, LightLgbm.\n",
    "2. Menambahkan Feature lain seperti Tanggal Transaksi, kota asal dan lain-lain yang berhubungan dengan Perusahaan E-Commerce\n",
    "3. Menggunakan sumber lain dalam perhitungan biaya Customer Acquisition dan mempertahankan pelanggan.\n",
    "4. Data yang di analisa tidak seimbang (Imbalance) sehingga dapat menggunakan algoritma statistik lain."
   ]
  },
  {
   "cell_type": "code",
   "execution_count": null,
   "id": "3589da55-97b4-4cfd-917a-759694bcf991",
   "metadata": {},
   "outputs": [],
   "source": []
  }
 ],
 "metadata": {
  "kernelspec": {
   "display_name": "Python 3 (ipykernel)",
   "language": "python",
   "name": "python3"
  },
  "language_info": {
   "codemirror_mode": {
    "name": "ipython",
    "version": 3
   },
   "file_extension": ".py",
   "mimetype": "text/x-python",
   "name": "python",
   "nbconvert_exporter": "python",
   "pygments_lexer": "ipython3",
   "version": "3.9.12"
  }
 },
 "nbformat": 4,
 "nbformat_minor": 5
}
